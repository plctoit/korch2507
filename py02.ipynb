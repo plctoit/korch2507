{
 "cells": [
  {
   "cell_type": "markdown",
   "id": "b8a2e543",
   "metadata": {},
   "source": [
    "# 라이브러리 응용"
   ]
  },
  {
   "cell_type": "markdown",
   "id": "52aca1f6",
   "metadata": {},
   "source": []
  },
  {
   "cell_type": "code",
   "execution_count": 14,
   "id": "c40059c5",
   "metadata": {},
   "outputs": [],
   "source": [
    "# 쓰레드 제어 준비\n",
    "import time as t\n",
    "\n",
    "# 작업 5초\n",
    "def long_task():\n",
    "    for w in range(5):\n",
    "        print(f\"일하는 중...{w+1}\")\n",
    "        t.sleep(1)"
   ]
  },
  {
   "cell_type": "code",
   "execution_count": 15,
   "id": "3d215fb1",
   "metadata": {},
   "outputs": [
    {
     "name": "stdout",
     "output_type": "stream",
     "text": [
      "=====Start=====\n",
      "일하는 중...1\n",
      "일하는 중...2\n",
      "일하는 중...3\n",
      "일하는 중...4\n",
      "일하는 중...5\n",
      "일하는 중...1\n",
      "일하는 중...2\n",
      "일하는 중...3\n",
      "일하는 중...4\n",
      "일하는 중...5\n",
      "일하는 중...1\n",
      "일하는 중...2\n",
      "일하는 중...3\n",
      "일하는 중...4\n",
      "일하는 중...5\n",
      "일하는 중...1\n",
      "일하는 중...2\n",
      "일하는 중...3\n",
      "일하는 중...4\n",
      "일하는 중...5\n",
      "일하는 중...1\n",
      "일하는 중...2\n",
      "일하는 중...3\n",
      "일하는 중...4\n",
      "일하는 중...5\n",
      "=====End=====\n",
      "총 소요 시간: 25.64초\n"
     ]
    }
   ],
   "source": [
    "# 일반적인 작업\n",
    "# 작업 5초 x 5회 = 25초\n",
    "start = t.time()\n",
    "print(\"=====Start=====\")\n",
    "for n in range(5):\n",
    "    long_task()\n",
    "print(\"=====End=====\")\n",
    "print(f\"총 소요 시간: {t.time() - start:.2f}초\")"
   ]
  },
  {
   "cell_type": "code",
   "execution_count": 16,
   "id": "970792f8",
   "metadata": {},
   "outputs": [
    {
     "name": "stdout",
     "output_type": "stream",
     "text": [
      "=====Start=====\n",
      "일하는 중...1\n",
      "일하는 중...1\n",
      "일하는 중...1\n",
      "일하는 중...1\n",
      "일하는 중...1\n",
      "일하는 중...2\n",
      "일하는 중...2\n",
      "일하는 중...2\n",
      "일하는 중...2\n",
      "일하는 중...2\n",
      "일하는 중...3\n",
      "일하는 중...3\n",
      "일하는 중...3\n",
      "일하는 중...3\n",
      "일하는 중...3\n",
      "일하는 중...4\n",
      "일하는 중...4\n",
      "일하는 중...4\n",
      "일하는 중...4\n",
      "일하는 중...4\n",
      "일하는 중...5\n",
      "일하는 중...5\n",
      "일하는 중...5\n",
      "일하는 중...5\n",
      "일하는 중...5\n",
      "=====End=====\n",
      "총 소요 시간: 5.61초\n"
     ]
    }
   ],
   "source": [
    "# 쓰레드를 사용함, 프로그램적으로(논리적) 병렬처리\n",
    "import threading\n",
    "import time as t\n",
    "start = t.time()\n",
    "print(\"=====Start=====\")\n",
    "threads = []\n",
    "for n in range(5):\n",
    "    th = threading.Thread(target=long_task)\n",
    "    threads.append(th)    \n",
    "for tr in threads:\n",
    "    tr.start()\n",
    "for tr in threads:\n",
    "    tr.join()\n",
    "print(\"=====End=====\")\n",
    "print(f\"총 소요 시간: {t.time() - start:.2f}초\")\n"
   ]
  },
  {
   "cell_type": "code",
   "execution_count": 1,
   "id": "1e766d31",
   "metadata": {},
   "outputs": [
    {
     "name": "stdout",
     "output_type": "stream",
     "text": [
      "=====Start=====\n",
      "=====End=====\n",
      "총 소요 시간: 0.92초\n"
     ]
    }
   ],
   "source": [
    "# multiprocessing을 사용함, 물리적으로 cpu 코어를 활용하여 병렬처리\n",
    "import multiprocessing\n",
    "import time as t\n",
    "\n",
    "# 작업 5초\n",
    "def long_task():\n",
    "    for w in range(5):\n",
    "        print(f\"일하는 중...{w+1}\")\n",
    "        t.sleep(1)\n",
    "\n",
    "if __name__ == \"__main__\":\n",
    "    start = t.time()\n",
    "    print(\"=====Start=====\")\n",
    "    processes = []\n",
    "    for n in range(5):\n",
    "        p = multiprocessing.Process(target=long_task)\n",
    "        processes.append(p)    \n",
    "    for p in processes:\n",
    "        p.start()\n",
    "    for p in processes:\n",
    "        p.join()\n",
    "    print(\"=====End=====\")\n",
    "    print(f\"총 소요 시간: {t.time() - start:.2f}초\")"
   ]
  },
  {
   "cell_type": "markdown",
   "id": "ddfa68ca-a87f-4506-a336-f1f6c5f7ea6c",
   "metadata": {},
   "source": [
    "## JSON"
   ]
  },
  {
   "cell_type": "code",
   "execution_count": 9,
   "id": "4a8b74d3",
   "metadata": {},
   "outputs": [
    {
     "name": "stdout",
     "output_type": "stream",
     "text": [
      "<class 'dict'> {'name': 'superman', 'age': 30, 'address': 'busan'}\n"
     ]
    }
   ],
   "source": [
    "test = {\n",
    "    \"name\":\"superman\",\n",
    "    \"age\": 30,\n",
    "    \"address\": \"busan\"\n",
    "}\n",
    "print(type(test),test)"
   ]
  },
  {
   "cell_type": "code",
   "execution_count": 10,
   "id": "9d60cebe",
   "metadata": {},
   "outputs": [
    {
     "name": "stdout",
     "output_type": "stream",
     "text": [
      "{\"name\": \"superman\", \"age\": 30, \"address\": \"busan\"} <class 'str'>\n"
     ]
    }
   ],
   "source": [
    "import json\n",
    "# JSON으로 변환\n",
    "data = json.dumps(test)  # 문자열로 변환\n",
    "print(data, type(data))\n"
   ]
  },
  {
   "cell_type": "code",
   "execution_count": 12,
   "id": "94b2cbff",
   "metadata": {},
   "outputs": [
    {
     "name": "stdout",
     "output_type": "stream",
     "text": [
      "스마트카 데이터가 smartcar_data.json 파일에 저장되었습니다.\n"
     ]
    }
   ],
   "source": [
    "# 스마트카 데이터 json 파일 만들기\n",
    "import json\n",
    "import time\n",
    "import random    \n",
    "\n",
    "def generate_smartcar_data( num = 0 ):\n",
    "    return {\n",
    "        \"car_id\": num,\n",
    "        \"speed\": random.randint(0, 150),  # km/h\n",
    "        \"fuel_level\": random.uniform(0, 100),  # %\n",
    "        \"latitude\": round(random.uniform(-90.0, 90.0),6),  # 위도\n",
    "        \"longitude\": round(random.uniform(-180.0, 180.0),6),  # 경도\n",
    "        \"timestamp\": time.time()  # 현재 시간\n",
    "    }\n",
    "\n",
    "with open(\"./smartcar_data.json\", \"w\") as file:\n",
    "    data = [ generate_smartcar_data(n) for n in range(100)]  # 100개의 데이터 생성\n",
    "    json.dump(data, file)\n",
    "    file.write(\"\\n\")  # 각 데이터는 새로운 줄에 저장\n",
    "    print(\"스마트카 데이터가 smartcar_data.json 파일에 저장되었습니다.\")"
   ]
  },
  {
   "cell_type": "code",
   "execution_count": 13,
   "id": "b2df05bd",
   "metadata": {},
   "outputs": [
    {
     "name": "stdout",
     "output_type": "stream",
     "text": [
      "[{'car_id': 0, 'speed': 84, 'fuel_level': 12.913227688785344, 'latitude': 38.838062, 'longitude': 48.455841, 'timestamp': 1752028243.1588902}, {'car_id': 1, 'speed': 8, 'fuel_level': 83.32208915936123, 'latitude': -87.512052, 'longitude': 63.577094, 'timestamp': 1752028243.1588967}, {'car_id': 2, 'speed': 102, 'fuel_level': 84.95007520544412, 'latitude': 85.842335, 'longitude': 70.715257, 'timestamp': 1752028243.1588998}, {'car_id': 3, 'speed': 85, 'fuel_level': 66.46797468126768, 'latitude': 33.91208, 'longitude': 11.831009, 'timestamp': 1752028243.1589022}, {'car_id': 4, 'speed': 32, 'fuel_level': 63.31232320343905, 'latitude': 13.691505, 'longitude': -119.336479, 'timestamp': 1752028243.1589048}]\n"
     ]
    }
   ],
   "source": [
    "with open(\"./smartcar_data.json\", \"r\") as f:\n",
    "    data = json.load(f)\n",
    "print(data[:5])  # 처음 5개의 데이터 출력"
   ]
  },
  {
   "cell_type": "code",
   "execution_count": 15,
   "id": "390a32d0",
   "metadata": {},
   "outputs": [
    {
     "name": "stdout",
     "output_type": "stream",
     "text": [
      "{'car_id': 77, 'speed': 97, 'fuel_level': 72.55132201141122, 'latitude': -19.850639, 'longitude': -159.790638, 'timestamp': 1752028243.159343}\n"
     ]
    }
   ],
   "source": [
    "for d in data:\n",
    "    if d.get(\"car_id\")== 77:\n",
    "        print(d)"
   ]
  },
  {
   "cell_type": "code",
   "execution_count": 28,
   "id": "79b0cc3b",
   "metadata": {},
   "outputs": [
    {
     "name": "stdout",
     "output_type": "stream",
     "text": [
      "77 necessitatibus quasi exercitationem odio\n"
     ]
    }
   ],
   "source": [
    "import requests \n",
    "import json\n",
    "\n",
    "url = \"https://jsonplaceholder.typicode.com/posts\"\n",
    "\n",
    "data = requests.get(url).json()\n",
    "with open(\"./posts.json\", \"w\") as f:\n",
    "    for d in data:\n",
    "        if d.get(\"id\") == 77:\n",
    "            print(d[\"id\"],d[\"title\"])\n",
    "            json.dump(d, f, ensure_ascii=False)  # ensure_ascii=False는 한글이 깨지지 않도록 함"
   ]
  },
  {
   "cell_type": "code",
   "execution_count": 47,
   "id": "a5dbb11b",
   "metadata": {},
   "outputs": [
    {
     "name": "stdout",
     "output_type": "stream",
     "text": [
      "8 삼성전자우 50700\n",
      "18 카카오 59900\n",
      "21 HMM 24550\n",
      "22 한국전력 37300\n",
      "29 우리금융지주 25300\n",
      "36 기업은행 20250\n",
      "38 삼성중공업 17490\n",
      "39 카카오뱅크 30150\n",
      "40 KT 55800\n",
      "44 미래에셋증권 22100\n",
      "47 SK텔레콤 55300\n"
     ]
    }
   ],
   "source": [
    "import requests as req\n",
    "from bs4 import BeautifulSoup as bs\n",
    "url = \"https://finance.naver.com/sise/sise_market_sum.naver\"\n",
    "web = req.get(url)\n",
    "\n",
    "soup = bs(web.content, \"html.parser\")\n",
    "# print(soup.title.text)  # 페이지 제목 출력\n",
    "tableline = soup.select(\".type_2 tr\")\n",
    "\n",
    "for t in tableline:\n",
    "    no = t.select_one(\".no\")\n",
    "    title = t.select_one(\".tltle\")\n",
    "    number = t.select_one(\".number\")\n",
    "    if( no or title or number):\n",
    "        if (int(number.text.replace(\",\",\"\")) < 60000):\n",
    "            print(no.text, title.text, int(number.text.replace(\",\",\"\")))"
   ]
  },
  {
   "cell_type": "code",
   "execution_count": 1,
   "id": "c012d4cf",
   "metadata": {},
   "outputs": [],
   "source": [
    "!pip install -q -U google-genai"
   ]
  },
  {
   "cell_type": "code",
   "execution_count": 8,
   "id": "c01a2ecd",
   "metadata": {},
   "outputs": [
    {
     "name": "stdout",
     "output_type": "stream",
     "text": [
      "시퀀스는 스마트 제조, 스마트팩토리, 스마트팜에서 특정 작업이나 공정이 수행되는 '순서' 또는 '단계'를 의미합니다.\n",
      "\n",
      "주로 PLC(Programmable Logic Controller)나 로봇 제어 시스템에서 핵심적으로 활용되어, 설비 동작, 로봇 움직임, 생산 라인의 공정 흐름 등을 미리 정해진 단계별로 자동 실행하도록 제어합니다.\n",
      "\n",
      "스마트팜에서는 작물의 성장 단계에 맞춰 급수, 영양분 공급, 온도 조절 등의 작업을 자동화된 순서로 적용하는 데 사용됩니다. 이는 생산 효율을 극대화하고, 품질을 안정화하며, 오작동을 방지하는 데 필수적인 기술입니다.\n"
     ]
    }
   ],
   "source": [
    "from google import genai\n",
    "\n",
    "def aiai(text):\n",
    "    client = genai.Client(api_key=\"AI5915zaSyBKEEkZQJIm2mi9znEocvztHtgPL9_Honw\")\n",
    "    response = client.models.generate_content(\n",
    "        model=\"gemini-2.5-flash\", contents= text + \";단, 300자 이내로 서술형으로 친절하게 알려줘. 내용은 스마트제조나 스마트팩토리 또는 스마트팜와 관련되고 사용되는 기술 대답만 해줘.\"\n",
    "    )\n",
    "    print(response.text)\n",
    "\n",
    "aiai(\"시퀀스에 대해 설명해줘.\")"
   ]
  },
  {
   "cell_type": "code",
   "execution_count": 10,
   "id": "d5d7bf4b",
   "metadata": {},
   "outputs": [
    {
     "name": "stdout",
     "output_type": "stream",
     "text": [
      "Collecting qrcode\n",
      "  Downloading qrcode-8.2-py3-none-any.whl.metadata (17 kB)\n",
      "Requirement already satisfied: colorama in c:\\users\\user\\appdata\\local\\programs\\python\\python313\\lib\\site-packages (from qrcode) (0.4.6)\n",
      "Downloading qrcode-8.2-py3-none-any.whl (45 kB)\n",
      "Installing collected packages: qrcode\n",
      "Successfully installed qrcode-8.2\n"
     ]
    }
   ],
   "source": [
    "!pip install qrcode"
   ]
  },
  {
   "cell_type": "code",
   "execution_count": 21,
   "id": "96ebc51e",
   "metadata": {},
   "outputs": [],
   "source": [
    "# !pip install Pillow"
   ]
  },
  {
   "cell_type": "code",
   "execution_count": 24,
   "id": "71c41908",
   "metadata": {},
   "outputs": [],
   "source": [
    "import qrcode\n",
    "def qrcode_maker(text, filename=\"./public/qr.png\"):\n",
    "    qr = qrcode.make(text)\n",
    "    qr.save(filename)"
   ]
  },
  {
   "cell_type": "code",
   "execution_count": 25,
   "id": "35c0c136",
   "metadata": {},
   "outputs": [],
   "source": [
    "qrcode_maker(\"안녕하세요. 누구입니다!! QR테스트 중입니다.\")"
   ]
  },
  {
   "cell_type": "code",
   "execution_count": null,
   "id": "ecefed7e",
   "metadata": {},
   "outputs": [],
   "source": []
  }
 ],
 "metadata": {
  "kernelspec": {
   "display_name": "Python 3 (ipykernel)",
   "language": "python",
   "name": "python3"
  }
 },
 "nbformat": 4,
 "nbformat_minor": 5
}

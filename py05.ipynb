{
 "cells": [
  {
   "cell_type": "markdown",
   "id": "a15fc02e",
   "metadata": {},
   "source": [
    "# 머신러닝기초"
   ]
  },
  {
   "cell_type": "code",
   "execution_count": 14,
   "id": "2832cf4b",
   "metadata": {},
   "outputs": [],
   "source": [
    "# !pip install scikit-learn"
   ]
  },
  {
   "cell_type": "code",
   "execution_count": 21,
   "id": "e3031cea",
   "metadata": {},
   "outputs": [
    {
     "name": "stdout",
     "output_type": "stream",
     "text": [
      "정확도: 1.0\n",
      "리포트:               precision    recall  f1-score   support\n",
      "\n",
      "      setosa       1.00      1.00      1.00        10\n",
      "  versicolor       1.00      1.00      1.00         9\n",
      "   virginica       1.00      1.00      1.00        11\n",
      "\n",
      "    accuracy                           1.00        30\n",
      "   macro avg       1.00      1.00      1.00        30\n",
      "weighted avg       1.00      1.00      1.00        30\n",
      "\n",
      "예측 클래스: ['setosa']\n"
     ]
    },
    {
     "name": "stderr",
     "output_type": "stream",
     "text": [
      "C:\\Users\\user\\AppData\\Local\\Programs\\Python\\Python313\\Lib\\site-packages\\sklearn\\utils\\validation.py:2749: UserWarning: X does not have valid feature names, but KNeighborsClassifier was fitted with feature names\n",
      "  warnings.warn(\n"
     ]
    }
   ],
   "source": [
    "import pandas as pd\n",
    "from sklearn.model_selection import train_test_split\n",
    "\n",
    "# 1. 데이터 불러오기\n",
    "df = pd.read_csv(\"./public/iris.csv\")\n",
    "df.head(10)\n",
    "\n",
    "# 2. 특성하고 타겟을 분리\n",
    "X = df.drop('Species', axis=1) # 꽃받침 , 길이, 넓이\n",
    "Y = df['Species']\n",
    "\n",
    "# 3. 훈련 / 테스트 데이터의 분할\n",
    "x_train, x_test, y_train , y_test = train_test_split(\n",
    "    X, Y, test_size=0.2 , random_state=42\n",
    ")\n",
    "\n",
    "# 4. 모델학습 ( KNN )\n",
    "from sklearn.neighbors import KNeighborsClassifier\n",
    "knn = KNeighborsClassifier(n_neighbors=3)\n",
    "knn.fit(x_train, y_train)\n",
    "\n",
    "# 5. 예측 및 평가\n",
    "from sklearn.metrics import accuracy_score , classification_report\n",
    "y_pred = knn.predict(x_test)\n",
    "x_test , y_pred , y_test\n",
    "print(\"정확도:\", accuracy_score(y_test, y_pred))\n",
    "print(\"리포트:\",classification_report(y_test, y_pred))\n",
    "\n",
    "# 6. 새로운 데이터 예측\n",
    "import numpy as np\n",
    "new_data = np.array([[5.1, 3.5, 1.4, 0.2]])\n",
    "pred_class = knn.predict(new_data)\n",
    "print(\"예측 클래스:\", pred_class)\n",
    "\n",
    "\n"
   ]
  },
  {
   "cell_type": "code",
   "execution_count": null,
   "id": "7c69ba14",
   "metadata": {},
   "outputs": [],
   "source": []
  }
 ],
 "metadata": {
  "kernelspec": {
   "display_name": "Python 3 (ipykernel)",
   "language": "python",
   "name": "python3"
  },
  "language_info": {
   "codemirror_mode": {
    "name": "ipython",
    "version": 3
   },
   "file_extension": ".py",
   "mimetype": "text/x-python",
   "name": "python",
   "nbconvert_exporter": "python",
   "pygments_lexer": "ipython3",
   "version": "3.13.3"
  }
 },
 "nbformat": 4,
 "nbformat_minor": 5
}

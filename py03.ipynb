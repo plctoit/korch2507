{
 "cells": [
  {
   "cell_type": "markdown",
   "id": "d6a29ac9",
   "metadata": {},
   "source": [
    "# 넘파이 Numpy"
   ]
  },
  {
   "cell_type": "markdown",
   "id": "b734a70a",
   "metadata": {},
   "source": [
    "## numpy as np"
   ]
  },
  {
   "cell_type": "code",
   "execution_count": 1,
   "id": "a35628be",
   "metadata": {},
   "outputs": [],
   "source": [
    "# numpy\n",
    "import numpy as np\n",
    "data1 = [1,2,3,4,5]\n",
    "data2 = [1,2,3,4,5,6]"
   ]
  },
  {
   "cell_type": "code",
   "execution_count": 3,
   "id": "8e9593ff",
   "metadata": {},
   "outputs": [
    {
     "data": {
      "text/plain": [
       "(array([1, 2, 3, 4, 5]), array([1, 2, 3, 4, 5, 6]))"
      ]
     },
     "execution_count": 3,
     "metadata": {},
     "output_type": "execute_result"
    }
   ],
   "source": [
    "arr1 = np.array(data1)\n",
    "arr2 = np.array(data2)\n",
    "arr1 , arr2"
   ]
  },
  {
   "cell_type": "code",
   "execution_count": 5,
   "id": "8489f712",
   "metadata": {},
   "outputs": [
    {
     "data": {
      "text/plain": [
       "((5,), dtype('int64'))"
      ]
     },
     "execution_count": 5,
     "metadata": {},
     "output_type": "execute_result"
    }
   ],
   "source": [
    "arr1.shape , arr1.dtype"
   ]
  },
  {
   "cell_type": "code",
   "execution_count": 6,
   "id": "ebdcf8e7",
   "metadata": {},
   "outputs": [
    {
     "data": {
      "text/plain": [
       "array([[1, 2, 3],\n",
       "       [4, 5, 6]])"
      ]
     },
     "execution_count": 6,
     "metadata": {},
     "output_type": "execute_result"
    }
   ],
   "source": [
    "arr3 = np.array([[1,2,3],[4,5,6]])\n",
    "arr3"
   ]
  },
  {
   "cell_type": "code",
   "execution_count": 7,
   "id": "f9ade340",
   "metadata": {},
   "outputs": [
    {
     "data": {
      "text/plain": [
       "((2, 3), dtype('int64'))"
      ]
     },
     "execution_count": 7,
     "metadata": {},
     "output_type": "execute_result"
    }
   ],
   "source": [
    "arr3.shape , arr3.dtype"
   ]
  },
  {
   "cell_type": "code",
   "execution_count": 11,
   "id": "2112616d",
   "metadata": {},
   "outputs": [
    {
     "data": {
      "text/plain": [
       "(array([0., 0., 0., 0., 0., 0., 0., 0., 0., 0.]), (10,), dtype('float64'))"
      ]
     },
     "execution_count": 11,
     "metadata": {},
     "output_type": "execute_result"
    }
   ],
   "source": [
    "zz = np.zeros(10)\n",
    "zz, zz.shape , zz.dtype"
   ]
  },
  {
   "cell_type": "code",
   "execution_count": 13,
   "id": "40b01064",
   "metadata": {},
   "outputs": [
    {
     "data": {
      "text/plain": [
       "(array([[0., 0., 0., 0., 0.],\n",
       "        [0., 0., 0., 0., 0.],\n",
       "        [0., 0., 0., 0., 0.]]),\n",
       " (3, 5),\n",
       " dtype('float64'))"
      ]
     },
     "execution_count": 13,
     "metadata": {},
     "output_type": "execute_result"
    }
   ],
   "source": [
    "zzz = np.zeros((3,5))\n",
    "zzz, zzz.shape, zzz.dtype"
   ]
  },
  {
   "cell_type": "code",
   "execution_count": 14,
   "id": "9d9a7500",
   "metadata": {},
   "outputs": [
    {
     "data": {
      "text/plain": [
       "(array([1., 1., 1., 1., 1., 1., 1.]), (7,), dtype('float64'))"
      ]
     },
     "execution_count": 14,
     "metadata": {},
     "output_type": "execute_result"
    }
   ],
   "source": [
    "oo = np.ones(7)\n",
    "oo , oo.shape , oo.dtype"
   ]
  },
  {
   "cell_type": "code",
   "execution_count": 15,
   "id": "7439aece",
   "metadata": {},
   "outputs": [
    {
     "data": {
      "text/plain": [
       "(array([[1., 1., 1., 1., 1., 1., 1., 1., 1., 1.],\n",
       "        [1., 1., 1., 1., 1., 1., 1., 1., 1., 1.]]),\n",
       " (2, 10),\n",
       " dtype('float64'))"
      ]
     },
     "execution_count": 15,
     "metadata": {},
     "output_type": "execute_result"
    }
   ],
   "source": [
    "ooo = np.ones((2,10))\n",
    "ooo, ooo.shape, ooo.dtype"
   ]
  },
  {
   "cell_type": "code",
   "execution_count": 16,
   "id": "f08e726c",
   "metadata": {},
   "outputs": [
    {
     "data": {
      "text/plain": [
       "array([0, 1, 2, 3, 4, 5, 6, 7, 8, 9])"
      ]
     },
     "execution_count": 16,
     "metadata": {},
     "output_type": "execute_result"
    }
   ],
   "source": [
    "np.arange(10)"
   ]
  },
  {
   "cell_type": "code",
   "execution_count": 17,
   "id": "dca9528a",
   "metadata": {},
   "outputs": [
    {
     "data": {
      "text/plain": [
       "array([ 4,  5,  6,  7,  8,  9, 10, 11])"
      ]
     },
     "execution_count": 17,
     "metadata": {},
     "output_type": "execute_result"
    }
   ],
   "source": [
    "np.arange(4,12)"
   ]
  },
  {
   "cell_type": "markdown",
   "id": "02210961",
   "metadata": {},
   "source": [
    "## np.array 연산"
   ]
  },
  {
   "cell_type": "code",
   "execution_count": 18,
   "id": "fb3b619e",
   "metadata": {},
   "outputs": [
    {
     "data": {
      "text/plain": [
       "(array([[1, 2, 3],\n",
       "        [4, 5, 6]]),\n",
       " array([[10, 11, 12],\n",
       "        [13, 14, 15]]))"
      ]
     },
     "execution_count": 18,
     "metadata": {},
     "output_type": "execute_result"
    }
   ],
   "source": [
    "arr1 = np.array([[1,2,3],[4,5,6]])\n",
    "arr2 = np.array([[10,11,12],[13,14,15]])\n",
    "arr1, arr2"
   ]
  },
  {
   "cell_type": "code",
   "execution_count": 20,
   "id": "cc0dae43",
   "metadata": {},
   "outputs": [
    {
     "name": "stdout",
     "output_type": "stream",
     "text": [
      "(2, 3) int64\n",
      "(2, 3) int64\n"
     ]
    }
   ],
   "source": [
    "print(arr1.shape , arr1.dtype)\n",
    "print(arr2.shape , arr2.dtype)"
   ]
  },
  {
   "cell_type": "code",
   "execution_count": 29,
   "id": "35f8aa14",
   "metadata": {},
   "outputs": [
    {
     "name": "stdout",
     "output_type": "stream",
     "text": [
      "[[ 3  6  9]\n",
      " [12 15 18]]\n",
      "[[11 13 15]\n",
      " [17 19 21]]\n",
      "[[-9 -9 -9]\n",
      " [-9 -9 -9]]\n",
      "[[ 1.   2.9  4.8]\n",
      " [ 6.7  8.6 10.5]]\n",
      "[[10 22 36]\n",
      " [52 70 90]]\n",
      "[[0.1        0.18181818 0.25      ]\n",
      " [0.30769231 0.35714286 0.4       ]]\n",
      "[[23 35 47]\n",
      " [26 38 50]]\n",
      "[[ 22  66 132]\n",
      " [ 88 165 264]]\n"
     ]
    }
   ],
   "source": [
    "result0 = arr1*3\n",
    "result1 = arr1 + arr2\n",
    "result2 = arr1 - arr2\n",
    "result3 = arr1*2 - arr2/10\n",
    "result4 = arr1 * arr2\n",
    "result5 = arr1 / arr2\n",
    "print(result0)\n",
    "print(result1)\n",
    "print(result2)\n",
    "print(result3)\n",
    "print(result4)\n",
    "print(result5)\n",
    "\n",
    "# 브로드캐스트 : 같은 크기의 배열을 가지지 않아도 요소별 연산이 가능함\n",
    "arr3 = np.array([22,33,44])\n",
    "print(arr1 + arr3)\n",
    "print(arr1 * arr3)"
   ]
  },
  {
   "cell_type": "markdown",
   "id": "c73f669b",
   "metadata": {},
   "source": [
    "## 1차원"
   ]
  },
  {
   "cell_type": "code",
   "execution_count": 32,
   "id": "f7a88b5b",
   "metadata": {},
   "outputs": [
    {
     "data": {
      "text/plain": [
       "(array([0, 1, 2, 3, 4]), (5,), dtype('int64'), 5, 1)"
      ]
     },
     "execution_count": 32,
     "metadata": {},
     "output_type": "execute_result"
    }
   ],
   "source": [
    "# 1차원과 속성들\n",
    "# shape : 배열의 차원정보\n",
    "# dtype : 배열 원소의 자료형\n",
    "# size : 배열의 원소 총 개수\n",
    "# ndim : 축의 개수\n",
    "arr = np.arange(5)\n",
    "arr, arr.shape, arr.dtype, arr.size, arr.ndim\n"
   ]
  },
  {
   "cell_type": "code",
   "execution_count": 33,
   "id": "efe1a769",
   "metadata": {},
   "outputs": [
    {
     "name": "stdout",
     "output_type": "stream",
     "text": [
      "[1 2 3 4] int64\n",
      "['1' '2' 'a' 'b'] <U21\n",
      "['1' '2' '3' '4'] <U1\n"
     ]
    }
   ],
   "source": [
    "arr1 = np.array([1,2,3,4])\n",
    "arr2 = np.array([1,2,'a','b'])\n",
    "arr3 = np.array([1,2,3,4], dtype='str')\n",
    "print(arr1, arr1.dtype)\n",
    "print(arr2, arr2.dtype)\n",
    "print(arr3, arr3.dtype)"
   ]
  },
  {
   "cell_type": "code",
   "execution_count": 49,
   "id": "f0180ff0",
   "metadata": {},
   "outputs": [
    {
     "name": "stdout",
     "output_type": "stream",
     "text": [
      "[ 0 20 40 60 80]\n",
      "[ 0 20 40 60 80]\n"
     ]
    }
   ],
   "source": [
    "arr4 = np.full((4,3),\"없어요\")\n",
    "arr4\n",
    "arr5 = np.eye(3)\n",
    "arr5\n",
    "arr6 = np.linspace(0,100,5, endpoint=False, dtype=\"int64\")\n",
    "print(arr6)\n",
    "arr7 = np.arange(0,100,20)\n",
    "print(arr7)"
   ]
  },
  {
   "cell_type": "markdown",
   "id": "efd871a9",
   "metadata": {},
   "source": [
    "## 2차원"
   ]
  },
  {
   "cell_type": "code",
   "execution_count": 55,
   "id": "60ba4f90",
   "metadata": {},
   "outputs": [
    {
     "data": {
      "text/plain": [
       "(array([[1, 2],\n",
       "        [3, 4]]),\n",
       " (2, 2),\n",
       " 4,\n",
       " dtype('int64'),\n",
       " 2,\n",
       " numpy.ndarray)"
      ]
     },
     "execution_count": 55,
     "metadata": {},
     "output_type": "execute_result"
    }
   ],
   "source": [
    "arr20 = np.array([[1,2],[3,4]])\n",
    "arr20 , arr20.shape, arr20.size, arr20.dtype, arr20.ndim, type(arr20)"
   ]
  },
  {
   "cell_type": "code",
   "execution_count": null,
   "id": "79188274",
   "metadata": {},
   "outputs": [
    {
     "name": "stdout",
     "output_type": "stream",
     "text": [
      "[[1 2 3]\n",
      " [4 5 6]\n",
      " [7 8 9]] (3, 3) 9 int64 2 <class 'numpy.ndarray'>\n",
      "[[ 1  2  3  4  5]\n",
      " [ 6  7  8  9 10]] (2, 5) 10 int64 2 <class 'numpy.ndarray'>\n",
      "[[ 1  2  3  4  5  6]\n",
      " [ 7  8  9 10 11 12]\n",
      " [13 14 15 16 17 18]] (3, 6) 18 int64 2 <class 'numpy.ndarray'>\n"
     ]
    }
   ],
   "source": [
    "try:\n",
    "    arr21 = np.arange(1,10).reshape(3,3)\n",
    "    print(arr21 , arr21.shape, arr21.size, arr21.dtype, arr21.ndim, type(arr21))\n",
    "    arr22 = np.arange(1,11).reshape(2,5)\n",
    "    print(arr22 , arr22.shape, arr22.size, arr22.dtype, arr22.ndim, type(arr22))\n",
    "    arr23 = np.arange(1,19).reshape(3,6)\n",
    "    print(arr23 , arr23.shape, arr23.size, arr23.dtype, arr23.ndim, type(arr23))\n",
    "except ValueError as e:\n",
    "    print(\"차원과 사이즈가 맞지 않아요:\",e)"
   ]
  },
  {
   "cell_type": "code",
   "execution_count": null,
   "id": "5a5b72a7",
   "metadata": {},
   "outputs": [],
   "source": [
    "# 새로 진행"
   ]
  },
  {
   "cell_type": "code",
   "execution_count": null,
   "id": "94aaf466",
   "metadata": {},
   "outputs": [],
   "source": []
  }
 ],
 "metadata": {
  "kernelspec": {
   "display_name": "Python 3 (ipykernel)",
   "language": "python",
   "name": "python3"
  },
  "language_info": {
   "codemirror_mode": {
    "name": "ipython",
    "version": 3
   },
   "file_extension": ".py",
   "mimetype": "text/x-python",
   "name": "python",
   "nbconvert_exporter": "python",
   "pygments_lexer": "ipython3",
   "version": "3.13.3"
  }
 },
 "nbformat": 4,
 "nbformat_minor": 5
}

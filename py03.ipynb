{
 "cells": [
  {
   "cell_type": "markdown",
   "id": "d6a29ac9",
   "metadata": {},
   "source": [
    "# 넘파이 Numpy"
   ]
  },
  {
   "cell_type": "markdown",
   "id": "b734a70a",
   "metadata": {},
   "source": [
    "## numpy as np"
   ]
  },
  {
   "cell_type": "code",
   "execution_count": 1,
   "id": "a35628be",
   "metadata": {},
   "outputs": [],
   "source": [
    "# numpy\n",
    "import numpy as np\n",
    "data1 = [1,2,3,4,5]\n",
    "data2 = [1,2,3,4,5,6]"
   ]
  },
  {
   "cell_type": "code",
   "execution_count": 3,
   "id": "8e9593ff",
   "metadata": {},
   "outputs": [
    {
     "data": {
      "text/plain": [
       "(array([1, 2, 3, 4, 5]), array([1, 2, 3, 4, 5, 6]))"
      ]
     },
     "execution_count": 3,
     "metadata": {},
     "output_type": "execute_result"
    }
   ],
   "source": [
    "arr1 = np.array(data1)\n",
    "arr2 = np.array(data2)\n",
    "arr1 , arr2"
   ]
  },
  {
   "cell_type": "code",
   "execution_count": 5,
   "id": "8489f712",
   "metadata": {},
   "outputs": [
    {
     "data": {
      "text/plain": [
       "((5,), dtype('int64'))"
      ]
     },
     "execution_count": 5,
     "metadata": {},
     "output_type": "execute_result"
    }
   ],
   "source": [
    "arr1.shape , arr1.dtype"
   ]
  },
  {
   "cell_type": "code",
   "execution_count": 6,
   "id": "ebdcf8e7",
   "metadata": {},
   "outputs": [
    {
     "data": {
      "text/plain": [
       "array([[1, 2, 3],\n",
       "       [4, 5, 6]])"
      ]
     },
     "execution_count": 6,
     "metadata": {},
     "output_type": "execute_result"
    }
   ],
   "source": [
    "arr3 = np.array([[1,2,3],[4,5,6]])\n",
    "arr3"
   ]
  },
  {
   "cell_type": "code",
   "execution_count": 7,
   "id": "f9ade340",
   "metadata": {},
   "outputs": [
    {
     "data": {
      "text/plain": [
       "((2, 3), dtype('int64'))"
      ]
     },
     "execution_count": 7,
     "metadata": {},
     "output_type": "execute_result"
    }
   ],
   "source": [
    "arr3.shape , arr3.dtype"
   ]
  },
  {
   "cell_type": "code",
   "execution_count": 11,
   "id": "2112616d",
   "metadata": {},
   "outputs": [
    {
     "data": {
      "text/plain": [
       "(array([0., 0., 0., 0., 0., 0., 0., 0., 0., 0.]), (10,), dtype('float64'))"
      ]
     },
     "execution_count": 11,
     "metadata": {},
     "output_type": "execute_result"
    }
   ],
   "source": [
    "zz = np.zeros(10)\n",
    "zz, zz.shape , zz.dtype"
   ]
  },
  {
   "cell_type": "code",
   "execution_count": 13,
   "id": "40b01064",
   "metadata": {},
   "outputs": [
    {
     "data": {
      "text/plain": [
       "(array([[0., 0., 0., 0., 0.],\n",
       "        [0., 0., 0., 0., 0.],\n",
       "        [0., 0., 0., 0., 0.]]),\n",
       " (3, 5),\n",
       " dtype('float64'))"
      ]
     },
     "execution_count": 13,
     "metadata": {},
     "output_type": "execute_result"
    }
   ],
   "source": [
    "zzz = np.zeros((3,5))\n",
    "zzz, zzz.shape, zzz.dtype"
   ]
  },
  {
   "cell_type": "code",
   "execution_count": 14,
   "id": "9d9a7500",
   "metadata": {},
   "outputs": [
    {
     "data": {
      "text/plain": [
       "(array([1., 1., 1., 1., 1., 1., 1.]), (7,), dtype('float64'))"
      ]
     },
     "execution_count": 14,
     "metadata": {},
     "output_type": "execute_result"
    }
   ],
   "source": [
    "oo = np.ones(7)\n",
    "oo , oo.shape , oo.dtype"
   ]
  },
  {
   "cell_type": "code",
   "execution_count": 15,
   "id": "7439aece",
   "metadata": {},
   "outputs": [
    {
     "data": {
      "text/plain": [
       "(array([[1., 1., 1., 1., 1., 1., 1., 1., 1., 1.],\n",
       "        [1., 1., 1., 1., 1., 1., 1., 1., 1., 1.]]),\n",
       " (2, 10),\n",
       " dtype('float64'))"
      ]
     },
     "execution_count": 15,
     "metadata": {},
     "output_type": "execute_result"
    }
   ],
   "source": [
    "ooo = np.ones((2,10))\n",
    "ooo, ooo.shape, ooo.dtype"
   ]
  },
  {
   "cell_type": "code",
   "execution_count": 16,
   "id": "f08e726c",
   "metadata": {},
   "outputs": [
    {
     "data": {
      "text/plain": [
       "array([0, 1, 2, 3, 4, 5, 6, 7, 8, 9])"
      ]
     },
     "execution_count": 16,
     "metadata": {},
     "output_type": "execute_result"
    }
   ],
   "source": [
    "np.arange(10)"
   ]
  },
  {
   "cell_type": "code",
   "execution_count": 17,
   "id": "dca9528a",
   "metadata": {},
   "outputs": [
    {
     "data": {
      "text/plain": [
       "array([ 4,  5,  6,  7,  8,  9, 10, 11])"
      ]
     },
     "execution_count": 17,
     "metadata": {},
     "output_type": "execute_result"
    }
   ],
   "source": [
    "np.arange(4,12)"
   ]
  },
  {
   "cell_type": "markdown",
   "id": "02210961",
   "metadata": {},
   "source": [
    "## np.array 연산"
   ]
  },
  {
   "cell_type": "code",
   "execution_count": 18,
   "id": "fb3b619e",
   "metadata": {},
   "outputs": [
    {
     "data": {
      "text/plain": [
       "(array([[1, 2, 3],\n",
       "        [4, 5, 6]]),\n",
       " array([[10, 11, 12],\n",
       "        [13, 14, 15]]))"
      ]
     },
     "execution_count": 18,
     "metadata": {},
     "output_type": "execute_result"
    }
   ],
   "source": [
    "arr1 = np.array([[1,2,3],[4,5,6]])\n",
    "arr2 = np.array([[10,11,12],[13,14,15]])\n",
    "arr1, arr2"
   ]
  },
  {
   "cell_type": "code",
   "execution_count": 20,
   "id": "cc0dae43",
   "metadata": {},
   "outputs": [
    {
     "name": "stdout",
     "output_type": "stream",
     "text": [
      "(2, 3) int64\n",
      "(2, 3) int64\n"
     ]
    }
   ],
   "source": [
    "print(arr1.shape , arr1.dtype)\n",
    "print(arr2.shape , arr2.dtype)"
   ]
  },
  {
   "cell_type": "code",
   "execution_count": 29,
   "id": "35f8aa14",
   "metadata": {},
   "outputs": [
    {
     "name": "stdout",
     "output_type": "stream",
     "text": [
      "[[ 3  6  9]\n",
      " [12 15 18]]\n",
      "[[11 13 15]\n",
      " [17 19 21]]\n",
      "[[-9 -9 -9]\n",
      " [-9 -9 -9]]\n",
      "[[ 1.   2.9  4.8]\n",
      " [ 6.7  8.6 10.5]]\n",
      "[[10 22 36]\n",
      " [52 70 90]]\n",
      "[[0.1        0.18181818 0.25      ]\n",
      " [0.30769231 0.35714286 0.4       ]]\n",
      "[[23 35 47]\n",
      " [26 38 50]]\n",
      "[[ 22  66 132]\n",
      " [ 88 165 264]]\n"
     ]
    }
   ],
   "source": [
    "result0 = arr1*3\n",
    "result1 = arr1 + arr2\n",
    "result2 = arr1 - arr2\n",
    "result3 = arr1*2 - arr2/10\n",
    "result4 = arr1 * arr2\n",
    "result5 = arr1 / arr2\n",
    "print(result0)\n",
    "print(result1)\n",
    "print(result2)\n",
    "print(result3)\n",
    "print(result4)\n",
    "print(result5)\n",
    "\n",
    "# 브로드캐스트 : 같은 크기의 배열을 가지지 않아도 요소별 연산이 가능함\n",
    "arr3 = np.array([22,33,44])\n",
    "print(arr1 + arr3)\n",
    "print(arr1 * arr3)"
   ]
  },
  {
   "cell_type": "markdown",
   "id": "c73f669b",
   "metadata": {},
   "source": [
    "## 1차원"
   ]
  },
  {
   "cell_type": "code",
   "execution_count": 32,
   "id": "f7a88b5b",
   "metadata": {},
   "outputs": [
    {
     "data": {
      "text/plain": [
       "(array([0, 1, 2, 3, 4]), (5,), dtype('int64'), 5, 1)"
      ]
     },
     "execution_count": 32,
     "metadata": {},
     "output_type": "execute_result"
    }
   ],
   "source": [
    "# 1차원과 속성들\n",
    "# shape : 배열의 차원정보\n",
    "# dtype : 배열 원소의 자료형\n",
    "# size : 배열의 원소 총 개수\n",
    "# ndim : 축의 개수\n",
    "arr = np.arange(5)\n",
    "arr, arr.shape, arr.dtype, arr.size, arr.ndim\n"
   ]
  },
  {
   "cell_type": "code",
   "execution_count": 33,
   "id": "efe1a769",
   "metadata": {},
   "outputs": [
    {
     "name": "stdout",
     "output_type": "stream",
     "text": [
      "[1 2 3 4] int64\n",
      "['1' '2' 'a' 'b'] <U21\n",
      "['1' '2' '3' '4'] <U1\n"
     ]
    }
   ],
   "source": [
    "arr1 = np.array([1,2,3,4])\n",
    "arr2 = np.array([1,2,'a','b'])\n",
    "arr3 = np.array([1,2,3,4], dtype='str')\n",
    "print(arr1, arr1.dtype)\n",
    "print(arr2, arr2.dtype)\n",
    "print(arr3, arr3.dtype)"
   ]
  },
  {
   "cell_type": "code",
   "execution_count": 49,
   "id": "f0180ff0",
   "metadata": {},
   "outputs": [
    {
     "name": "stdout",
     "output_type": "stream",
     "text": [
      "[ 0 20 40 60 80]\n",
      "[ 0 20 40 60 80]\n"
     ]
    }
   ],
   "source": [
    "arr4 = np.full((4,3),\"없어요\")\n",
    "arr4\n",
    "arr5 = np.eye(3)\n",
    "arr5\n",
    "arr6 = np.linspace(0,100,5, endpoint=False, dtype=\"int64\")\n",
    "print(arr6)\n",
    "arr7 = np.arange(0,100,20)\n",
    "print(arr7)"
   ]
  },
  {
   "cell_type": "markdown",
   "id": "efd871a9",
   "metadata": {},
   "source": [
    "## 2차원"
   ]
  },
  {
   "cell_type": "code",
   "execution_count": 55,
   "id": "60ba4f90",
   "metadata": {},
   "outputs": [
    {
     "data": {
      "text/plain": [
       "(array([[1, 2],\n",
       "        [3, 4]]),\n",
       " (2, 2),\n",
       " 4,\n",
       " dtype('int64'),\n",
       " 2,\n",
       " numpy.ndarray)"
      ]
     },
     "execution_count": 55,
     "metadata": {},
     "output_type": "execute_result"
    }
   ],
   "source": [
    "arr20 = np.array([[1,2],[3,4]])\n",
    "arr20 , arr20.shape, arr20.size, arr20.dtype, arr20.ndim, type(arr20)"
   ]
  },
  {
   "cell_type": "code",
   "execution_count": null,
   "id": "79188274",
   "metadata": {},
   "outputs": [
    {
     "name": "stdout",
     "output_type": "stream",
     "text": [
      "[[1 2 3]\n",
      " [4 5 6]\n",
      " [7 8 9]] (3, 3) 9 int64 2 <class 'numpy.ndarray'>\n",
      "[[ 1  2  3  4  5]\n",
      " [ 6  7  8  9 10]] (2, 5) 10 int64 2 <class 'numpy.ndarray'>\n",
      "[[ 1  2  3  4  5  6]\n",
      " [ 7  8  9 10 11 12]\n",
      " [13 14 15 16 17 18]] (3, 6) 18 int64 2 <class 'numpy.ndarray'>\n"
     ]
    }
   ],
   "source": [
    "try:\n",
    "    arr21 = np.arange(1,10).reshape(3,3)\n",
    "    print(arr21 , arr21.shape, arr21.size, arr21.dtype, arr21.ndim, type(arr21))\n",
    "    arr22 = np.arange(1,11).reshape(2,5)\n",
    "    print(arr22 , arr22.shape, arr22.size, arr22.dtype, arr22.ndim, type(arr22))\n",
    "    arr23 = np.arange(1,19).reshape(3,6)\n",
    "    print(arr23 , arr23.shape, arr23.size, arr23.dtype, arr23.ndim, type(arr23))\n",
    "except ValueError as e:\n",
    "    print(\"차원과 사이즈가 맞지 않아요:\",e)"
   ]
  },
  {
   "cell_type": "markdown",
   "id": "f3fa8211",
   "metadata": {},
   "source": [
    "## 인덱싱(마스크)"
   ]
  },
  {
   "cell_type": "code",
   "execution_count": 27,
   "id": "5a5b72a7",
   "metadata": {},
   "outputs": [
    {
     "data": {
      "text/plain": [
       "array([[-1.10036899, -0.47984469, -0.29723042, -0.67975541],\n",
       "       [-1.72536304,  0.6730523 ,  0.36691006,  0.77661832],\n",
       "       [ 0.47015647,  1.27685522,  0.44479618,  0.56916723],\n",
       "       [ 1.21969542, -0.59575631, -0.27750731,  0.25237978],\n",
       "       [ 0.00898787, -1.50421826,  0.32552307,  1.87211828],\n",
       "       [ 1.84307556, -0.51583449,  1.57788069,  1.34483687],\n",
       "       [ 0.62471983,  0.74613366, -0.4281873 , -2.88260375],\n",
       "       [-0.17906418, -0.13081855,  0.47949155, -0.4308686 ]])"
      ]
     },
     "execution_count": 27,
     "metadata": {},
     "output_type": "execute_result"
    }
   ],
   "source": [
    "import numpy as np\n",
    "# 난수 발생\n",
    "ran_data = np.random.randn(8,4)\n",
    "ran_data"
   ]
  },
  {
   "cell_type": "code",
   "execution_count": 5,
   "id": "94aaf466",
   "metadata": {},
   "outputs": [
    {
     "data": {
      "text/plain": [
       "array([ True, False,  True, False, False,  True,  True, False])"
      ]
     },
     "execution_count": 5,
     "metadata": {},
     "output_type": "execute_result"
    }
   ],
   "source": [
    "mask = np.array([True,False,True,False,False,True,True,False])\n",
    "mask"
   ]
  },
  {
   "cell_type": "code",
   "execution_count": 6,
   "id": "a25f341c",
   "metadata": {},
   "outputs": [
    {
     "data": {
      "text/plain": [
       "array([[-0.81965086, -1.16400345,  1.24708891,  0.73006793],\n",
       "       [ 1.18101555,  1.24728693,  0.91615574, -1.78745878],\n",
       "       [ 1.01978673,  0.81535496, -0.03354386,  1.5391312 ],\n",
       "       [-0.40890042,  0.91627458, -0.84338704, -0.88253335]])"
      ]
     },
     "execution_count": 6,
     "metadata": {},
     "output_type": "execute_result"
    }
   ],
   "source": [
    "ran_data[mask]"
   ]
  },
  {
   "cell_type": "code",
   "execution_count": 7,
   "id": "61802d8f",
   "metadata": {},
   "outputs": [
    {
     "data": {
      "text/plain": [
       "array(['apple', 'banana', 'apple', 'kiwi', 'orange', 'apple', 'apple',\n",
       "       'melon'], dtype='<U6')"
      ]
     },
     "execution_count": 7,
     "metadata": {},
     "output_type": "execute_result"
    }
   ],
   "source": [
    "fruit = np.array(['apple','banana','apple','kiwi','orange','apple','apple','melon'])\n",
    "fruit"
   ]
  },
  {
   "cell_type": "code",
   "execution_count": null,
   "id": "0fe822e4",
   "metadata": {},
   "outputs": [
    {
     "data": {
      "text/plain": [
       "array([ True, False,  True, False, False,  True,  True, False])"
      ]
     },
     "execution_count": 8,
     "metadata": {},
     "output_type": "execute_result"
    }
   ],
   "source": [
    "fruit_mask = (fruit == 'apple')\n",
    "fruit_mask"
   ]
  },
  {
   "cell_type": "code",
   "execution_count": 9,
   "id": "6dc13daa",
   "metadata": {},
   "outputs": [
    {
     "data": {
      "text/plain": [
       "array([[-0.81965086, -1.16400345,  1.24708891,  0.73006793],\n",
       "       [ 1.18101555,  1.24728693,  0.91615574, -1.78745878],\n",
       "       [ 1.01978673,  0.81535496, -0.03354386,  1.5391312 ],\n",
       "       [-0.40890042,  0.91627458, -0.84338704, -0.88253335]])"
      ]
     },
     "execution_count": 9,
     "metadata": {},
     "output_type": "execute_result"
    }
   ],
   "source": [
    "ran_data[fruit_mask]"
   ]
  },
  {
   "cell_type": "code",
   "execution_count": 14,
   "id": "661a4fc4",
   "metadata": {},
   "outputs": [
    {
     "data": {
      "text/plain": [
       "array([[-1.16400345,  1.24708891],\n",
       "       [ 1.24728693,  0.91615574],\n",
       "       [ 1.79813667,  0.33361945],\n",
       "       [ 0.81535496, -0.03354386],\n",
       "       [ 0.91627458, -0.84338704]])"
      ]
     },
     "execution_count": 14,
     "metadata": {},
     "output_type": "execute_result"
    }
   ],
   "source": [
    "ran_data[(fruit == 'apple')|(fruit=='orange'),1:-1] # ran_data[행,열]"
   ]
  },
  {
   "cell_type": "markdown",
   "id": "f37d8b8b",
   "metadata": {},
   "source": [
    "## 인덱스와 마스크의 응용"
   ]
  },
  {
   "cell_type": "code",
   "execution_count": 19,
   "id": "dd147a06",
   "metadata": {},
   "outputs": [
    {
     "data": {
      "text/plain": [
       "array([False,  True,  True, False,  True,  True, False,  True])"
      ]
     },
     "execution_count": 19,
     "metadata": {},
     "output_type": "execute_result"
    }
   ],
   "source": [
    "ran_data[:,0] > 0"
   ]
  },
  {
   "cell_type": "code",
   "execution_count": 17,
   "id": "e2a0d711",
   "metadata": {},
   "outputs": [
    {
     "data": {
      "text/plain": [
       "array([1.24708891, 0.73006793, 0.62109092, 1.44063012, 0.44276807,\n",
       "       1.18101555, 1.24728693, 0.91615574, 0.5801626 , 0.2048928 ,\n",
       "       1.79813667, 0.33361945, 1.63094941, 1.01978673, 0.81535496,\n",
       "       1.5391312 , 0.91627458, 1.33511235, 1.02007908, 0.99575708])"
      ]
     },
     "execution_count": 17,
     "metadata": {},
     "output_type": "execute_result"
    }
   ],
   "source": [
    "ran_data[ran_data[:,:] > 0]"
   ]
  },
  {
   "cell_type": "code",
   "execution_count": null,
   "id": "c937669c",
   "metadata": {},
   "outputs": [
    {
     "data": {
      "text/plain": [
       "array([[ 0.15427161,  0.79037287,  0.36238213,  0.20624937],\n",
       "       [-0.59419344,  0.7784205 ,         nan,         nan],\n",
       "       [ 1.07749052,  0.10393255,  0.2531623 , -0.03831084],\n",
       "       [ 0.70062999, -0.06253658,  2.75628643,  2.43931314],\n",
       "       [-1.81352809, -0.34506369,         nan,         nan],\n",
       "       [ 0.70049522,  1.01468878,  0.43978665, -0.18130708],\n",
       "       [ 1.10235694, -0.25142297,  1.93707893, -0.23821794],\n",
       "       [-0.06919136, -1.30680053,         nan,         nan]])"
      ]
     },
     "execution_count": 37,
     "metadata": {},
     "output_type": "execute_result"
    }
   ],
   "source": [
    "ran_data = np.random.randn(8,4)\n",
    "ran_data[ran_data[:,0] < 0,2:4] = np.nan # np.nan\n",
    "ran_data"
   ]
  },
  {
   "cell_type": "code",
   "execution_count": 48,
   "id": "00299de4",
   "metadata": {},
   "outputs": [
    {
     "data": {
      "text/plain": [
       "array([[ 0.15427161,  0.79037287,  0.36238213,  0.20624937],\n",
       "       [ 1.07749052,  0.10393255,  0.2531623 , -0.03831084],\n",
       "       [ 0.70062999, -0.06253658,  2.75628643,  2.43931314],\n",
       "       [ 0.70049522,  1.01468878,  0.43978665, -0.18130708],\n",
       "       [ 1.10235694, -0.25142297,  1.93707893, -0.23821794]])"
      ]
     },
     "execution_count": 48,
     "metadata": {},
     "output_type": "execute_result"
    }
   ],
   "source": [
    "fix_data = ran_data[~np.isnan(ran_data).any(axis=1)]\n",
    "fix_data"
   ]
  },
  {
   "cell_type": "code",
   "execution_count": 49,
   "id": "46a4f88a",
   "metadata": {},
   "outputs": [
    {
     "data": {
      "text/plain": [
       "array([[0.15427161, 0.79037287, 0.36238213, 0.20624937],\n",
       "       [1.07749052, 0.10393255, 0.2531623 , 0.03831084],\n",
       "       [0.70062999, 0.06253658, 2.75628643, 2.43931314],\n",
       "       [0.70049522, 1.01468878, 0.43978665, 0.18130708],\n",
       "       [1.10235694, 0.25142297, 1.93707893, 0.23821794]])"
      ]
     },
     "execution_count": 49,
     "metadata": {},
     "output_type": "execute_result"
    }
   ],
   "source": [
    "fix_data2 = np.abs(fix_data)\n",
    "fix_data2"
   ]
  },
  {
   "cell_type": "code",
   "execution_count": 51,
   "id": "0070d9c1",
   "metadata": {},
   "outputs": [
    {
     "data": {
      "text/plain": [
       "array([[0.39277424, 0.88902917, 0.60198184, 0.45414686],\n",
       "       [1.03802241, 0.32238572, 0.50315236, 0.19573156],\n",
       "       [0.83703643, 0.25007314, 1.66020674, 1.56183006],\n",
       "       [0.83695593, 1.00731762, 0.66316412, 0.42580169],\n",
       "       [1.04993187, 0.50142095, 1.39178983, 0.48807575]])"
      ]
     },
     "execution_count": 51,
     "metadata": {},
     "output_type": "execute_result"
    }
   ],
   "source": [
    "fix_data3 = np.sqrt(fix_data2)\n",
    "fix_data3"
   ]
  },
  {
   "cell_type": "code",
   "execution_count": 52,
   "id": "b5da9e24",
   "metadata": {},
   "outputs": [
    {
     "data": {
      "text/plain": [
       "array([[-0.93452028, -0.11762523, -0.50752801, -0.78933465],\n",
       "       [ 0.03731737, -1.13200657, -0.68686226, -1.63101115],\n",
       "       [-0.17788768, -1.38600183,  0.50694214,  0.44585825],\n",
       "       [-0.17798387,  0.00729097, -0.41073277, -0.85378156],\n",
       "       [ 0.04872528, -0.69030932,  0.33059057, -0.71728467]])"
      ]
     },
     "execution_count": 52,
     "metadata": {},
     "output_type": "execute_result"
    }
   ],
   "source": [
    "fix_data4 = np.log(fix_data3)\n",
    "fix_data4"
   ]
  },
  {
   "cell_type": "code",
   "execution_count": 53,
   "id": "dee8a144",
   "metadata": {},
   "outputs": [
    {
     "data": {
      "text/plain": [
       "array([[-1., -1., -1., -1.],\n",
       "       [ 1., -1., -1., -1.],\n",
       "       [-1., -1.,  1.,  1.],\n",
       "       [-1.,  1., -1., -1.],\n",
       "       [ 1., -1.,  1., -1.]])"
      ]
     },
     "execution_count": 53,
     "metadata": {},
     "output_type": "execute_result"
    }
   ],
   "source": [
    "np.sign(fix_data4)"
   ]
  },
  {
   "cell_type": "code",
   "execution_count": null,
   "id": "44b0140d",
   "metadata": {},
   "outputs": [
    {
     "data": {
      "text/plain": [
       "array([[ 0.59420434,  0.99309013,  0.87394861,  0.7043178 ],\n",
       "       [ 0.99930379,  0.42484418,  0.77323951, -0.06017844],\n",
       "       [ 0.98421966,  0.18374453,  0.8742332 ,  0.90224089],\n",
       "       [ 0.98420264,  0.99997342,  0.91682849,  0.65713742],\n",
       "       [ 0.99881316,  0.77104909,  0.94585081,  0.75359341]])"
      ]
     },
     "execution_count": 54,
     "metadata": {},
     "output_type": "execute_result"
    }
   ],
   "source": [
    "# 삼각함수 값을 계산하기( cos, cosh, sin, sinh, tan ,tanh)\n",
    "np.cos(fix_data4)"
   ]
  },
  {
   "cell_type": "code",
   "execution_count": 56,
   "id": "e66f0453",
   "metadata": {},
   "outputs": [
    {
     "data": {
      "text/plain": [
       "(array([[-0.55633187,  0.74791827, -1.19080401,  0.40776312],\n",
       "        [ 1.09086363,  0.86435815, -0.73387872, -1.23698562],\n",
       "        [-0.26791823, -1.41034036,  0.13826559,  0.75036394],\n",
       "        [ 0.79379881, -0.59476663, -0.55244041, -0.42110269],\n",
       "        [-0.41671936,  0.36338179, -0.69917686,  0.60225997],\n",
       "        [-0.23100644,  1.29928938, -0.0957612 ,  0.21032676],\n",
       "        [-0.63305023, -0.1591616 ,  1.67392468, -0.62972987],\n",
       "        [-0.19590336,  0.88052093,  0.06187663,  0.03443025]]),\n",
       " array([[ 1.35235605,  1.31350195,  0.06755911, -0.62139635],\n",
       "        [ 2.20774317,  0.95606041, -2.10926353,  0.43851148],\n",
       "        [-1.01406035,  1.02837767,  1.24620625, -1.77759542],\n",
       "        [-0.60695995, -0.60069358, -0.53756333, -1.39626392],\n",
       "        [-0.82977278, -1.91771243, -1.13799902, -0.06799576],\n",
       "        [-1.38642152,  0.58559799,  1.36315397,  4.03724767],\n",
       "        [-0.71645021,  1.43897139,  1.91600307, -0.51231061],\n",
       "        [-0.41682414, -0.73147689,  0.98206674,  0.10515941]]))"
      ]
     },
     "execution_count": 56,
     "metadata": {},
     "output_type": "execute_result"
    }
   ],
   "source": [
    "# 두개의 array에 동일한 위치의 요소끼리 비교 하기\n",
    "data1 = np.random.randn(8,4)\n",
    "data2 = np.random.randn(8,4)\n",
    "data1 , data2"
   ]
  },
  {
   "cell_type": "code",
   "execution_count": null,
   "id": "2d4760bb",
   "metadata": {},
   "outputs": [
    {
     "data": {
      "text/plain": [
       "array([[ 1.35235605,  1.31350195,  0.06755911,  0.40776312],\n",
       "       [ 2.20774317,  0.95606041, -0.73387872,  0.43851148],\n",
       "       [-0.26791823,  1.02837767,  1.24620625,  0.75036394],\n",
       "       [ 0.79379881, -0.59476663, -0.53756333, -0.42110269],\n",
       "       [-0.41671936,  0.36338179, -0.69917686,  0.60225997],\n",
       "       [-0.23100644,  1.29928938,  1.36315397,  4.03724767],\n",
       "       [-0.63305023,  1.43897139,  1.91600307, -0.51231061],\n",
       "       [-0.19590336,  0.88052093,  0.98206674,  0.10515941]])"
      ]
     },
     "execution_count": 57,
     "metadata": {},
     "output_type": "execute_result"
    }
   ],
   "source": [
    "np.maximum(data1, data2) "
   ]
  },
  {
   "cell_type": "code",
   "execution_count": 58,
   "id": "1a338c2e",
   "metadata": {},
   "outputs": [
    {
     "data": {
      "text/plain": [
       "array([[-0.55633187,  0.74791827, -1.19080401, -0.62139635],\n",
       "       [ 1.09086363,  0.86435815, -2.10926353, -1.23698562],\n",
       "       [-1.01406035, -1.41034036,  0.13826559, -1.77759542],\n",
       "       [-0.60695995, -0.60069358, -0.55244041, -1.39626392],\n",
       "       [-0.82977278, -1.91771243, -1.13799902, -0.06799576],\n",
       "       [-1.38642152,  0.58559799, -0.0957612 ,  0.21032676],\n",
       "       [-0.71645021, -0.1591616 ,  1.67392468, -0.62972987],\n",
       "       [-0.41682414, -0.73147689,  0.06187663,  0.03443025]])"
      ]
     },
     "execution_count": 58,
     "metadata": {},
     "output_type": "execute_result"
    }
   ],
   "source": [
    "np.minimum(data1, data2) "
   ]
  },
  {
   "cell_type": "code",
   "execution_count": null,
   "id": "ec36d13a",
   "metadata": {},
   "outputs": [
    {
     "data": {
      "text/plain": [
       "array([[0.        , 0.74791827, 0.        , 0.40776312],\n",
       "       [1.09086363, 0.86435815, 0.        , 0.        ],\n",
       "       [0.        , 0.        , 0.13826559, 0.75036394],\n",
       "       [0.79379881, 0.        , 0.        , 0.        ],\n",
       "       [0.        , 0.36338179, 0.        , 0.60225997],\n",
       "       [0.        , 1.29928938, 0.        , 0.21032676],\n",
       "       [0.        , 0.        , 1.67392468, 0.        ],\n",
       "       [0.        , 0.88052093, 0.06187663, 0.03443025]])"
      ]
     },
     "execution_count": 59,
     "metadata": {},
     "output_type": "execute_result"
    }
   ],
   "source": [
    "np.maximum(data1 , 0) # ReLU(x) 같다."
   ]
  },
  {
   "cell_type": "code",
   "execution_count": 60,
   "id": "4d69c3bc",
   "metadata": {},
   "outputs": [
    {
     "data": {
      "text/plain": [
       "array([[1.35235605, 1.31350195, 0.5       , 0.5       ],\n",
       "       [1.7       , 0.95606041, 0.5       , 0.5       ],\n",
       "       [0.5       , 1.02837767, 1.24620625, 0.5       ],\n",
       "       [0.5       , 0.5       , 0.5       , 0.5       ],\n",
       "       [0.5       , 0.5       , 0.5       , 0.5       ],\n",
       "       [0.5       , 0.58559799, 1.36315397, 1.7       ],\n",
       "       [0.5       , 1.43897139, 1.7       , 0.5       ],\n",
       "       [0.5       , 0.5       , 0.98206674, 0.5       ]])"
      ]
     },
     "execution_count": 60,
     "metadata": {},
     "output_type": "execute_result"
    }
   ],
   "source": [
    "np.minimum(np.maximum(data2,0.5),1.7)"
   ]
  },
  {
   "cell_type": "markdown",
   "id": "7ae47558",
   "metadata": {},
   "source": [
    "## 통계함수"
   ]
  },
  {
   "cell_type": "code",
   "execution_count": 64,
   "id": "ced5971e",
   "metadata": {},
   "outputs": [
    {
     "data": {
      "text/plain": [
       "array([[ 0.54765262, -0.75789711, -0.99014159, -1.57717306],\n",
       "       [ 1.55486832,  0.11026469,  1.23265241,  0.05354986],\n",
       "       [ 1.3352004 , -1.6881581 ,  2.75670631, -0.04443442],\n",
       "       [-0.47256041,  1.54276002,  0.84243619,  0.19029129]])"
      ]
     },
     "execution_count": 64,
     "metadata": {},
     "output_type": "execute_result"
    }
   ],
   "source": [
    "data = np.random.randn(4,4)\n",
    "data"
   ]
  },
  {
   "cell_type": "code",
   "execution_count": 67,
   "id": "8044daa2",
   "metadata": {},
   "outputs": [
    {
     "data": {
      "text/plain": [
       "array([ 2.96516093, -0.79303049,  3.84165333, -1.37776632])"
      ]
     },
     "execution_count": 67,
     "metadata": {},
     "output_type": "execute_result"
    }
   ],
   "source": [
    "np.sum(data, axis=0)"
   ]
  },
  {
   "cell_type": "code",
   "execution_count": 66,
   "id": "d7848f8f",
   "metadata": {},
   "outputs": [
    {
     "data": {
      "text/plain": [
       "array([-2.77755913,  2.95133528,  2.3593142 ,  2.1029271 ])"
      ]
     },
     "execution_count": 66,
     "metadata": {},
     "output_type": "execute_result"
    }
   ],
   "source": [
    "np.sum(data, axis=1)"
   ]
  },
  {
   "cell_type": "code",
   "execution_count": 69,
   "id": "c49386de",
   "metadata": {},
   "outputs": [
    {
     "data": {
      "text/plain": [
       "array([-1.7480387 ,  1.3429171 ,  1.06854821,  2.38519621])"
      ]
     },
     "execution_count": 69,
     "metadata": {},
     "output_type": "execute_result"
    }
   ],
   "source": [
    "np.sum(data[:,1:3], axis=1)"
   ]
  },
  {
   "cell_type": "code",
   "execution_count": 70,
   "id": "32f2caf3",
   "metadata": {},
   "outputs": [
    {
     "data": {
      "text/plain": [
       "array([[-0.09384416,  2.11569558, -1.99184355, -1.87940784,  0.03180848],\n",
       "       [-0.53681739,  0.02964502,  0.23303013, -0.43134626,  1.85531382],\n",
       "       [-0.96684797, -0.3188881 ,  0.00905986,  0.55405247,  0.30263381]])"
      ]
     },
     "execution_count": 70,
     "metadata": {},
     "output_type": "execute_result"
    }
   ],
   "source": [
    "data2 = np.random.randn(3,5)\n",
    "data2"
   ]
  },
  {
   "cell_type": "code",
   "execution_count": null,
   "id": "04bc415b",
   "metadata": {},
   "outputs": [
    {
     "data": {
      "text/plain": [
       "np.float64(-0.07251707444047077)"
      ]
     },
     "execution_count": 71,
     "metadata": {},
     "output_type": "execute_result"
    }
   ],
   "source": [
    "# 요소의 평균구하기\n",
    "np.mean(data2)"
   ]
  },
  {
   "cell_type": "code",
   "execution_count": 72,
   "id": "8d81c55c",
   "metadata": {},
   "outputs": [
    {
     "data": {
      "text/plain": [
       "array([-0.53250318,  0.6088175 , -0.58325119, -0.58556721,  0.7299187 ])"
      ]
     },
     "execution_count": 72,
     "metadata": {},
     "output_type": "execute_result"
    }
   ],
   "source": [
    "np.mean(data2, axis=0)"
   ]
  },
  {
   "cell_type": "code",
   "execution_count": 73,
   "id": "6289a66f",
   "metadata": {},
   "outputs": [
    {
     "data": {
      "text/plain": [
       "array([-0.3635183 ,  0.22996506, -0.08399799])"
      ]
     },
     "execution_count": 73,
     "metadata": {},
     "output_type": "execute_result"
    }
   ],
   "source": [
    "np.mean(data2, axis=1)"
   ]
  },
  {
   "cell_type": "code",
   "execution_count": null,
   "id": "b359b15d",
   "metadata": {},
   "outputs": [
    {
     "data": {
      "text/plain": [
       "array([-1.99184355, -0.53681739, -0.96684797])"
      ]
     },
     "execution_count": 75,
     "metadata": {},
     "output_type": "execute_result"
    }
   ],
   "source": [
    "# 요소의 가장 작은 값 구하기, 반대는 max\n",
    "np.min(data2, axis=1) "
   ]
  },
  {
   "cell_type": "code",
   "execution_count": null,
   "id": "40721b0e",
   "metadata": {},
   "outputs": [
    {
     "data": {
      "text/plain": [
       "np.float64(1.0743510217757972)"
      ]
     },
     "execution_count": 76,
     "metadata": {},
     "output_type": "execute_result"
    }
   ],
   "source": [
    "# 표준편차 계산\n",
    "np.std(data2)"
   ]
  },
  {
   "cell_type": "code",
   "execution_count": null,
   "id": "35f315ca",
   "metadata": {},
   "outputs": [
    {
     "data": {
      "text/plain": [
       "np.float64(1.1542301179906997)"
      ]
     },
     "execution_count": 77,
     "metadata": {},
     "output_type": "execute_result"
    }
   ],
   "source": [
    "# 분산계산\n",
    "np.var(data2)"
   ]
  },
  {
   "cell_type": "code",
   "execution_count": null,
   "id": "17911fdf",
   "metadata": {},
   "outputs": [],
   "source": []
  }
 ],
 "metadata": {
  "kernelspec": {
   "display_name": "Python 3 (ipykernel)",
   "language": "python",
   "name": "python3"
  },
  "language_info": {
   "codemirror_mode": {
    "name": "ipython",
    "version": 3
   },
   "file_extension": ".py",
   "mimetype": "text/x-python",
   "name": "python",
   "nbconvert_exporter": "python",
   "pygments_lexer": "ipython3",
   "version": "3.13.3"
  }
 },
 "nbformat": 4,
 "nbformat_minor": 5
}

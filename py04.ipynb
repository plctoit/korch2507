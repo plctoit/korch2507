{
 "cells": [
  {
   "cell_type": "markdown",
   "id": "c948bc42",
   "metadata": {},
   "source": [
    "# 판다스 (pandas)"
   ]
  },
  {
   "cell_type": "code",
   "execution_count": 3,
   "id": "0e52fad9",
   "metadata": {},
   "outputs": [],
   "source": [
    "# !pip install pandas"
   ]
  },
  {
   "cell_type": "code",
   "execution_count": 4,
   "id": "eb7061ad",
   "metadata": {},
   "outputs": [],
   "source": [
    "import numpy as np\n",
    "import pandas as pd"
   ]
  },
  {
   "cell_type": "code",
   "execution_count": 11,
   "id": "7ea29f86",
   "metadata": {},
   "outputs": [
    {
     "name": "stdout",
     "output_type": "stream",
     "text": [
      "[1 2 3 4 5]\n",
      "0    1\n",
      "1    2\n",
      "2    3\n",
      "3    4\n",
      "4    5\n",
      "dtype: int64\n"
     ]
    },
    {
     "data": {
      "text/plain": [
       "(RangeIndex(start=0, stop=5, step=1), array([1, 2, 3, 4, 5]))"
      ]
     },
     "execution_count": 11,
     "metadata": {},
     "output_type": "execute_result"
    }
   ],
   "source": [
    "# 판다스 Series\n",
    "data1 = np.arange(1,6)\n",
    "print(data1)\n",
    "data2 = pd.Series(data1)\n",
    "print(data2)\n",
    "data2.index , data2.values"
   ]
  },
  {
   "cell_type": "code",
   "execution_count": 12,
   "id": "8ee01235",
   "metadata": {},
   "outputs": [
    {
     "data": {
      "text/plain": [
       "0    11\n",
       "1    22\n",
       "2    33\n",
       "3    44\n",
       "4    55\n",
       "dtype: int64"
      ]
     },
     "execution_count": 12,
     "metadata": {},
     "output_type": "execute_result"
    }
   ],
   "source": [
    "data3 = pd.Series([11,22,33,44,55])\n",
    "data3"
   ]
  },
  {
   "cell_type": "code",
   "execution_count": 13,
   "id": "4b38d064",
   "metadata": {},
   "outputs": [
    {
     "data": {
      "text/plain": [
       "apple     4400\n",
       "banana    3500\n",
       "kiwi      2200\n",
       "orange    1700\n",
       "mango     8800\n",
       "dtype: int64"
      ]
     },
     "execution_count": 13,
     "metadata": {},
     "output_type": "execute_result"
    }
   ],
   "source": [
    "dd = {\"apple\":4400,\"banana\":3500,\"kiwi\":2200,\"orange\":1700,\"mango\":8800}\n",
    "data4 = pd.Series(dd)\n",
    "data4"
   ]
  },
  {
   "cell_type": "code",
   "execution_count": 25,
   "id": "9f6a1fdd",
   "metadata": {},
   "outputs": [
    {
     "name": "stdout",
     "output_type": "stream",
     "text": [
      "<class 'pandas.core.series.Series'>\n"
     ]
    },
    {
     "data": {
      "text/plain": [
       "(과일이름\n",
       " apple     4400\n",
       " banana    3500\n",
       " kiwi      2200\n",
       " orange    1700\n",
       " mango     8800\n",
       " Name: 과일가격표, dtype: int64,\n",
       " Index(['apple', 'banana', 'kiwi', 'orange', 'mango'], dtype='object', name='과일이름'),\n",
       " array([4400, 3500, 2200, 1700, 8800]))"
      ]
     },
     "execution_count": 25,
     "metadata": {},
     "output_type": "execute_result"
    }
   ],
   "source": [
    "print(type(data4))\n",
    "data4.name = \"과일가격표\"\n",
    "data4.index.name = \"과일이름\"\n",
    "data4 , data4.index , data4.values"
   ]
  },
  {
   "cell_type": "code",
   "execution_count": 26,
   "id": "2ea506d5",
   "metadata": {},
   "outputs": [
    {
     "data": {
      "text/plain": [
       "(aa    1\n",
       " bb    2\n",
       " cc    3\n",
       " dd    4\n",
       " ee    5\n",
       " dtype: int64,\n",
       " Index(['aa', 'bb', 'cc', 'dd', 'ee'], dtype='object'),\n",
       " array([1, 2, 3, 4, 5]))"
      ]
     },
     "execution_count": 26,
     "metadata": {},
     "output_type": "execute_result"
    }
   ],
   "source": [
    "data2.index = [\"aa\",\"bb\",\"cc\",\"dd\",\"ee\"] # 개수가 같아야 함\n",
    "data2 , data2.index, data2.values"
   ]
  },
  {
   "cell_type": "code",
   "execution_count": 35,
   "id": "e2701880",
   "metadata": {},
   "outputs": [
    {
     "data": {
      "text/plain": [
       "(aa    1.0\n",
       " bb    2.0\n",
       " cc    3.0\n",
       " dd    4.0\n",
       " ee    5.0\n",
       " ff    6.0\n",
       " dtype: float64,\n",
       " (6,),\n",
       " 6,\n",
       " 1)"
      ]
     },
     "execution_count": 35,
     "metadata": {},
     "output_type": "execute_result"
    }
   ],
   "source": [
    "# 판다스 시리즈 데이터 타입 설정, 인덱스 수정\n",
    "data5 = pd.Series(np.arange(1,7), dtype=\"float\", index=[\"aa\",\"bb\",\"cc\",\"dd\",\"ee\",\"ff\"] )\n",
    "data5 , data5.shape, data5.size, data5.ndim"
   ]
  },
  {
   "cell_type": "code",
   "execution_count": 44,
   "id": "68aca53f",
   "metadata": {},
   "outputs": [
    {
     "name": "stdout",
     "output_type": "stream",
     "text": [
      "aa    1.0\n",
      "bb    2.0\n",
      "cc    3.0\n",
      "dd    4.0\n",
      "ee    5.0\n",
      "ff    6.0\n",
      "dtype: float64\n",
      "data5['dd']: 4.0\n",
      "data5.loc['dd']: 4.0\n",
      "data5[3]: 4.0\n",
      "data5.iloc[3]: 4.0\n"
     ]
    },
    {
     "name": "stderr",
     "output_type": "stream",
     "text": [
      "C:\\Users\\user\\AppData\\Local\\Temp\\ipykernel_19564\\901892072.py:5: FutureWarning: Series.__getitem__ treating keys as positions is deprecated. In a future version, integer keys will always be treated as labels (consistent with DataFrame behavior). To access a value by position, use `ser.iloc[pos]`\n",
      "  print(\"data5[3]:\",data5[3]) # deprecated\n"
     ]
    }
   ],
   "source": [
    "# 시리즈 원소에 접근방법\n",
    "print(data5)\n",
    "print(\"data5['dd']:\",data5['dd']) # deprecated\n",
    "print(\"data5.loc['dd']:\",data5.loc['dd'])\n",
    "print(\"data5[3]:\",data5[3]) # deprecated\n",
    "print(\"data5.iloc[3]:\",data5.iloc[3])"
   ]
  },
  {
   "cell_type": "markdown",
   "id": "c607a678",
   "metadata": {},
   "source": [
    "## 데이터프레임 Dataframe"
   ]
  },
  {
   "cell_type": "code",
   "execution_count": 48,
   "id": "fa2365d8",
   "metadata": {},
   "outputs": [
    {
     "data": {
      "text/html": [
       "<div>\n",
       "<style scoped>\n",
       "    .dataframe tbody tr th:only-of-type {\n",
       "        vertical-align: middle;\n",
       "    }\n",
       "\n",
       "    .dataframe tbody tr th {\n",
       "        vertical-align: top;\n",
       "    }\n",
       "\n",
       "    .dataframe thead th {\n",
       "        text-align: right;\n",
       "    }\n",
       "</style>\n",
       "<table border=\"1\" class=\"dataframe\">\n",
       "  <thead>\n",
       "    <tr style=\"text-align: right;\">\n",
       "      <th></th>\n",
       "      <th>A</th>\n",
       "      <th>B</th>\n",
       "      <th>C</th>\n",
       "    </tr>\n",
       "  </thead>\n",
       "  <tbody>\n",
       "    <tr>\n",
       "      <th>a</th>\n",
       "      <td>1</td>\n",
       "      <td>2</td>\n",
       "      <td>3</td>\n",
       "    </tr>\n",
       "    <tr>\n",
       "      <th>b</th>\n",
       "      <td>4</td>\n",
       "      <td>5</td>\n",
       "      <td>6</td>\n",
       "    </tr>\n",
       "    <tr>\n",
       "      <th>c</th>\n",
       "      <td>7</td>\n",
       "      <td>8</td>\n",
       "      <td>9</td>\n",
       "    </tr>\n",
       "  </tbody>\n",
       "</table>\n",
       "</div>"
      ],
      "text/plain": [
       "   A  B  C\n",
       "a  1  2  3\n",
       "b  4  5  6\n",
       "c  7  8  9"
      ]
     },
     "execution_count": 48,
     "metadata": {},
     "output_type": "execute_result"
    }
   ],
   "source": [
    "import pandas as pd\n",
    "df = pd.DataFrame([[1,2,3],[4,5,6],[7,8,9]],index=[\"a\",\"b\",\"c\"],columns=[\"A\",\"B\",\"C\"])\n",
    "df"
   ]
  },
  {
   "cell_type": "code",
   "execution_count": 49,
   "id": "d151e685",
   "metadata": {},
   "outputs": [
    {
     "data": {
      "text/html": [
       "<div>\n",
       "<style scoped>\n",
       "    .dataframe tbody tr th:only-of-type {\n",
       "        vertical-align: middle;\n",
       "    }\n",
       "\n",
       "    .dataframe tbody tr th {\n",
       "        vertical-align: top;\n",
       "    }\n",
       "\n",
       "    .dataframe thead th {\n",
       "        text-align: right;\n",
       "    }\n",
       "</style>\n",
       "<table border=\"1\" class=\"dataframe\">\n",
       "  <thead>\n",
       "    <tr style=\"text-align: right;\">\n",
       "      <th></th>\n",
       "      <th>A</th>\n",
       "      <th>B</th>\n",
       "      <th>C</th>\n",
       "    </tr>\n",
       "  </thead>\n",
       "  <tbody>\n",
       "    <tr>\n",
       "      <th>a</th>\n",
       "      <td>1</td>\n",
       "      <td>2</td>\n",
       "      <td>3</td>\n",
       "    </tr>\n",
       "    <tr>\n",
       "      <th>b</th>\n",
       "      <td>4</td>\n",
       "      <td>5</td>\n",
       "      <td>6</td>\n",
       "    </tr>\n",
       "    <tr>\n",
       "      <th>c</th>\n",
       "      <td>7</td>\n",
       "      <td>8</td>\n",
       "      <td>9</td>\n",
       "    </tr>\n",
       "  </tbody>\n",
       "</table>\n",
       "</div>"
      ],
      "text/plain": [
       "   A  B  C\n",
       "a  1  2  3\n",
       "b  4  5  6\n",
       "c  7  8  9"
      ]
     },
     "execution_count": 49,
     "metadata": {},
     "output_type": "execute_result"
    }
   ],
   "source": [
    "num = np.arange(1,10).reshape(3,3)\n",
    "df = pd.DataFrame(num,index=[\"a\",\"b\",\"c\"],columns=[\"A\",\"B\",\"C\"])\n",
    "df"
   ]
  },
  {
   "cell_type": "code",
   "execution_count": 56,
   "id": "e794aed2",
   "metadata": {},
   "outputs": [
    {
     "data": {
      "text/plain": [
       "(       과일이름    가격  개수\n",
       " No.                  \n",
       " 1     apple  4400   3\n",
       " 2    banana  5000   8\n",
       " 3      kiwi  2500  11\n",
       " 4     melon  7000  22\n",
       " 5    orange  2000   6\n",
       " 6     mango  8800   5,\n",
       " Index(['과일이름', '가격', '개수'], dtype='object'),\n",
       " array([['apple', 4400, 3],\n",
       "        ['banana', 5000, 8],\n",
       "        ['kiwi', 2500, 11],\n",
       "        ['melon', 7000, 22],\n",
       "        ['orange', 2000, 6],\n",
       "        ['mango', 8800, 5]], dtype=object))"
      ]
     },
     "execution_count": 56,
     "metadata": {},
     "output_type": "execute_result"
    }
   ],
   "source": [
    "dd = {\"과일이름\":[\"apple\",\"banana\",\"kiwi\",\"melon\",\"orange\",\"mango\"],\n",
    "      \"가격\":[4400,5000,2500,7000,2000,8800],\n",
    "      \"개수\":[3,8,11,22,6,5]}\n",
    "df2 = pd.DataFrame(dd)\n",
    "df2.index = range(1,7)\n",
    "df2.index.name = \"No.\"\n",
    "df2 , df2.columns, df2.values"
   ]
  },
  {
   "cell_type": "code",
   "execution_count": 57,
   "id": "cc06142e",
   "metadata": {},
   "outputs": [
    {
     "data": {
      "text/html": [
       "<div>\n",
       "<style scoped>\n",
       "    .dataframe tbody tr th:only-of-type {\n",
       "        vertical-align: middle;\n",
       "    }\n",
       "\n",
       "    .dataframe tbody tr th {\n",
       "        vertical-align: top;\n",
       "    }\n",
       "\n",
       "    .dataframe thead th {\n",
       "        text-align: right;\n",
       "    }\n",
       "</style>\n",
       "<table border=\"1\" class=\"dataframe\">\n",
       "  <thead>\n",
       "    <tr style=\"text-align: right;\">\n",
       "      <th></th>\n",
       "      <th>과일이름</th>\n",
       "      <th>가격</th>\n",
       "      <th>개수</th>\n",
       "    </tr>\n",
       "    <tr>\n",
       "      <th>No.</th>\n",
       "      <th></th>\n",
       "      <th></th>\n",
       "      <th></th>\n",
       "    </tr>\n",
       "  </thead>\n",
       "  <tbody>\n",
       "    <tr>\n",
       "      <th>1</th>\n",
       "      <td>apple</td>\n",
       "      <td>4400</td>\n",
       "      <td>3</td>\n",
       "    </tr>\n",
       "    <tr>\n",
       "      <th>2</th>\n",
       "      <td>banana</td>\n",
       "      <td>5000</td>\n",
       "      <td>8</td>\n",
       "    </tr>\n",
       "    <tr>\n",
       "      <th>3</th>\n",
       "      <td>kiwi</td>\n",
       "      <td>2500</td>\n",
       "      <td>11</td>\n",
       "    </tr>\n",
       "    <tr>\n",
       "      <th>4</th>\n",
       "      <td>melon</td>\n",
       "      <td>7000</td>\n",
       "      <td>22</td>\n",
       "    </tr>\n",
       "    <tr>\n",
       "      <th>5</th>\n",
       "      <td>orange</td>\n",
       "      <td>2000</td>\n",
       "      <td>6</td>\n",
       "    </tr>\n",
       "    <tr>\n",
       "      <th>6</th>\n",
       "      <td>mango</td>\n",
       "      <td>8800</td>\n",
       "      <td>5</td>\n",
       "    </tr>\n",
       "  </tbody>\n",
       "</table>\n",
       "</div>"
      ],
      "text/plain": [
       "       과일이름    가격  개수\n",
       "No.                  \n",
       "1     apple  4400   3\n",
       "2    banana  5000   8\n",
       "3      kiwi  2500  11\n",
       "4     melon  7000  22\n",
       "5    orange  2000   6\n",
       "6     mango  8800   5"
      ]
     },
     "execution_count": 57,
     "metadata": {},
     "output_type": "execute_result"
    }
   ],
   "source": [
    "df2"
   ]
  },
  {
   "cell_type": "code",
   "execution_count": null,
   "id": "b14b83be",
   "metadata": {},
   "outputs": [
    {
     "data": {
      "text/html": [
       "<div>\n",
       "<style scoped>\n",
       "    .dataframe tbody tr th:only-of-type {\n",
       "        vertical-align: middle;\n",
       "    }\n",
       "\n",
       "    .dataframe tbody tr th {\n",
       "        vertical-align: top;\n",
       "    }\n",
       "\n",
       "    .dataframe thead th {\n",
       "        text-align: right;\n",
       "    }\n",
       "</style>\n",
       "<table border=\"1\" class=\"dataframe\">\n",
       "  <thead>\n",
       "    <tr style=\"text-align: right;\">\n",
       "      <th></th>\n",
       "      <th>과일이름</th>\n",
       "      <th>원가</th>\n",
       "      <th>수량</th>\n",
       "    </tr>\n",
       "    <tr>\n",
       "      <th></th>\n",
       "      <th></th>\n",
       "      <th></th>\n",
       "      <th></th>\n",
       "    </tr>\n",
       "  </thead>\n",
       "  <tbody>\n",
       "    <tr>\n",
       "      <th>1</th>\n",
       "      <td>apple</td>\n",
       "      <td>4400</td>\n",
       "      <td>3</td>\n",
       "    </tr>\n",
       "    <tr>\n",
       "      <th>2</th>\n",
       "      <td>banana</td>\n",
       "      <td>5000</td>\n",
       "      <td>8</td>\n",
       "    </tr>\n",
       "    <tr>\n",
       "      <th>3</th>\n",
       "      <td>kiwi</td>\n",
       "      <td>2500</td>\n",
       "      <td>11</td>\n",
       "    </tr>\n",
       "    <tr>\n",
       "      <th>4</th>\n",
       "      <td>melon</td>\n",
       "      <td>7000</td>\n",
       "      <td>22</td>\n",
       "    </tr>\n",
       "    <tr>\n",
       "      <th>5</th>\n",
       "      <td>orange</td>\n",
       "      <td>2000</td>\n",
       "      <td>6</td>\n",
       "    </tr>\n",
       "    <tr>\n",
       "      <th>6</th>\n",
       "      <td>mango</td>\n",
       "      <td>8800</td>\n",
       "      <td>5</td>\n",
       "    </tr>\n",
       "  </tbody>\n",
       "</table>\n",
       "</div>"
      ],
      "text/plain": [
       "     과일이름    원가  수량\n",
       "                   \n",
       "1   apple  4400   3\n",
       "2  banana  5000   8\n",
       "3    kiwi  2500  11\n",
       "4   melon  7000  22\n",
       "5  orange  2000   6\n",
       "6   mango  8800   5"
      ]
     },
     "execution_count": 63,
     "metadata": {},
     "output_type": "execute_result"
    }
   ],
   "source": [
    "df2.columns.name = \"info\"\n",
    "df2.index.name =''\n",
    "df2.columns = ['과일이름','원가','수량',]\n",
    "df2"
   ]
  },
  {
   "cell_type": "code",
   "execution_count": 67,
   "id": "1e9565cb",
   "metadata": {},
   "outputs": [
    {
     "data": {
      "text/html": [
       "<div>\n",
       "<style scoped>\n",
       "    .dataframe tbody tr th:only-of-type {\n",
       "        vertical-align: middle;\n",
       "    }\n",
       "\n",
       "    .dataframe tbody tr th {\n",
       "        vertical-align: top;\n",
       "    }\n",
       "\n",
       "    .dataframe thead th {\n",
       "        text-align: right;\n",
       "    }\n",
       "</style>\n",
       "<table border=\"1\" class=\"dataframe\">\n",
       "  <thead>\n",
       "    <tr style=\"text-align: right;\">\n",
       "      <th></th>\n",
       "      <th>원가</th>\n",
       "      <th>수량</th>\n",
       "    </tr>\n",
       "  </thead>\n",
       "  <tbody>\n",
       "    <tr>\n",
       "      <th>count</th>\n",
       "      <td>6.000000</td>\n",
       "      <td>6.000000</td>\n",
       "    </tr>\n",
       "    <tr>\n",
       "      <th>mean</th>\n",
       "      <td>4950.000000</td>\n",
       "      <td>9.166667</td>\n",
       "    </tr>\n",
       "    <tr>\n",
       "      <th>std</th>\n",
       "      <td>2609.022806</td>\n",
       "      <td>6.853223</td>\n",
       "    </tr>\n",
       "    <tr>\n",
       "      <th>min</th>\n",
       "      <td>2000.000000</td>\n",
       "      <td>3.000000</td>\n",
       "    </tr>\n",
       "    <tr>\n",
       "      <th>25%</th>\n",
       "      <td>2975.000000</td>\n",
       "      <td>5.250000</td>\n",
       "    </tr>\n",
       "    <tr>\n",
       "      <th>50%</th>\n",
       "      <td>4700.000000</td>\n",
       "      <td>7.000000</td>\n",
       "    </tr>\n",
       "    <tr>\n",
       "      <th>75%</th>\n",
       "      <td>6500.000000</td>\n",
       "      <td>10.250000</td>\n",
       "    </tr>\n",
       "    <tr>\n",
       "      <th>max</th>\n",
       "      <td>8800.000000</td>\n",
       "      <td>22.000000</td>\n",
       "    </tr>\n",
       "  </tbody>\n",
       "</table>\n",
       "</div>"
      ],
      "text/plain": [
       "                원가         수량\n",
       "count     6.000000   6.000000\n",
       "mean   4950.000000   9.166667\n",
       "std    2609.022806   6.853223\n",
       "min    2000.000000   3.000000\n",
       "25%    2975.000000   5.250000\n",
       "50%    4700.000000   7.000000\n",
       "75%    6500.000000  10.250000\n",
       "max    8800.000000  22.000000"
      ]
     },
     "execution_count": 67,
     "metadata": {},
     "output_type": "execute_result"
    }
   ],
   "source": [
    "df2.describe()"
   ]
  },
  {
   "cell_type": "code",
   "execution_count": 74,
   "id": "038a252d",
   "metadata": {},
   "outputs": [
    {
     "data": {
      "text/html": [
       "<div>\n",
       "<style scoped>\n",
       "    .dataframe tbody tr th:only-of-type {\n",
       "        vertical-align: middle;\n",
       "    }\n",
       "\n",
       "    .dataframe tbody tr th {\n",
       "        vertical-align: top;\n",
       "    }\n",
       "\n",
       "    .dataframe thead th {\n",
       "        text-align: right;\n",
       "    }\n",
       "</style>\n",
       "<table border=\"1\" class=\"dataframe\">\n",
       "  <thead>\n",
       "    <tr style=\"text-align: right;\">\n",
       "      <th></th>\n",
       "      <th>과일이름</th>\n",
       "      <th>품종</th>\n",
       "      <th>원가</th>\n",
       "      <th>할인</th>\n",
       "      <th>수량</th>\n",
       "      <th>합계</th>\n",
       "    </tr>\n",
       "    <tr>\n",
       "      <th></th>\n",
       "      <th></th>\n",
       "      <th></th>\n",
       "      <th></th>\n",
       "      <th></th>\n",
       "      <th></th>\n",
       "      <th></th>\n",
       "    </tr>\n",
       "  </thead>\n",
       "  <tbody>\n",
       "    <tr>\n",
       "      <th>1</th>\n",
       "      <td>apple</td>\n",
       "      <td>NaN</td>\n",
       "      <td>4400</td>\n",
       "      <td>NaN</td>\n",
       "      <td>3</td>\n",
       "      <td>NaN</td>\n",
       "    </tr>\n",
       "    <tr>\n",
       "      <th>2</th>\n",
       "      <td>banana</td>\n",
       "      <td>NaN</td>\n",
       "      <td>5000</td>\n",
       "      <td>NaN</td>\n",
       "      <td>8</td>\n",
       "      <td>NaN</td>\n",
       "    </tr>\n",
       "    <tr>\n",
       "      <th>3</th>\n",
       "      <td>kiwi</td>\n",
       "      <td>NaN</td>\n",
       "      <td>2500</td>\n",
       "      <td>NaN</td>\n",
       "      <td>11</td>\n",
       "      <td>NaN</td>\n",
       "    </tr>\n",
       "    <tr>\n",
       "      <th>4</th>\n",
       "      <td>melon</td>\n",
       "      <td>NaN</td>\n",
       "      <td>7000</td>\n",
       "      <td>NaN</td>\n",
       "      <td>22</td>\n",
       "      <td>NaN</td>\n",
       "    </tr>\n",
       "    <tr>\n",
       "      <th>5</th>\n",
       "      <td>orange</td>\n",
       "      <td>NaN</td>\n",
       "      <td>2000</td>\n",
       "      <td>NaN</td>\n",
       "      <td>6</td>\n",
       "      <td>NaN</td>\n",
       "    </tr>\n",
       "    <tr>\n",
       "      <th>6</th>\n",
       "      <td>mango</td>\n",
       "      <td>NaN</td>\n",
       "      <td>8800</td>\n",
       "      <td>NaN</td>\n",
       "      <td>5</td>\n",
       "      <td>NaN</td>\n",
       "    </tr>\n",
       "  </tbody>\n",
       "</table>\n",
       "</div>"
      ],
      "text/plain": [
       "     과일이름  품종    원가  할인  수량  합계\n",
       "                               \n",
       "1   apple NaN  4400 NaN   3 NaN\n",
       "2  banana NaN  5000 NaN   8 NaN\n",
       "3    kiwi NaN  2500 NaN  11 NaN\n",
       "4   melon NaN  7000 NaN  22 NaN\n",
       "5  orange NaN  2000 NaN   6 NaN\n",
       "6   mango NaN  8800 NaN   5 NaN"
      ]
     },
     "execution_count": 74,
     "metadata": {},
     "output_type": "execute_result"
    }
   ],
   "source": [
    "df3 = pd.DataFrame(df2, columns = ['과일이름','품종','원가','할인','수량','합계'])\n",
    "df3\n"
   ]
  },
  {
   "cell_type": "code",
   "execution_count": 76,
   "id": "6dcd659f",
   "metadata": {},
   "outputs": [
    {
     "data": {
      "text/html": [
       "<div>\n",
       "<style scoped>\n",
       "    .dataframe tbody tr th:only-of-type {\n",
       "        vertical-align: middle;\n",
       "    }\n",
       "\n",
       "    .dataframe tbody tr th {\n",
       "        vertical-align: top;\n",
       "    }\n",
       "\n",
       "    .dataframe thead th {\n",
       "        text-align: right;\n",
       "    }\n",
       "</style>\n",
       "<table border=\"1\" class=\"dataframe\">\n",
       "  <thead>\n",
       "    <tr style=\"text-align: right;\">\n",
       "      <th></th>\n",
       "      <th>과일이름</th>\n",
       "      <th>품종</th>\n",
       "      <th>원가</th>\n",
       "      <th>할인</th>\n",
       "      <th>수량</th>\n",
       "      <th>합계</th>\n",
       "    </tr>\n",
       "    <tr>\n",
       "      <th></th>\n",
       "      <th></th>\n",
       "      <th></th>\n",
       "      <th></th>\n",
       "      <th></th>\n",
       "      <th></th>\n",
       "      <th></th>\n",
       "    </tr>\n",
       "  </thead>\n",
       "  <tbody>\n",
       "    <tr>\n",
       "      <th>1</th>\n",
       "      <td>apple</td>\n",
       "      <td>신선한</td>\n",
       "      <td>4400</td>\n",
       "      <td>0.2</td>\n",
       "      <td>3</td>\n",
       "      <td>NaN</td>\n",
       "    </tr>\n",
       "    <tr>\n",
       "      <th>2</th>\n",
       "      <td>banana</td>\n",
       "      <td>궁금한</td>\n",
       "      <td>5000</td>\n",
       "      <td>0.3</td>\n",
       "      <td>8</td>\n",
       "      <td>NaN</td>\n",
       "    </tr>\n",
       "    <tr>\n",
       "      <th>3</th>\n",
       "      <td>kiwi</td>\n",
       "      <td>맛있는</td>\n",
       "      <td>2500</td>\n",
       "      <td>0.2</td>\n",
       "      <td>11</td>\n",
       "      <td>NaN</td>\n",
       "    </tr>\n",
       "    <tr>\n",
       "      <th>4</th>\n",
       "      <td>melon</td>\n",
       "      <td>최적의</td>\n",
       "      <td>7000</td>\n",
       "      <td>0.1</td>\n",
       "      <td>22</td>\n",
       "      <td>NaN</td>\n",
       "    </tr>\n",
       "    <tr>\n",
       "      <th>5</th>\n",
       "      <td>orange</td>\n",
       "      <td>웰빙</td>\n",
       "      <td>2000</td>\n",
       "      <td>0.2</td>\n",
       "      <td>6</td>\n",
       "      <td>NaN</td>\n",
       "    </tr>\n",
       "    <tr>\n",
       "      <th>6</th>\n",
       "      <td>mango</td>\n",
       "      <td>유기농</td>\n",
       "      <td>8800</td>\n",
       "      <td>0.3</td>\n",
       "      <td>5</td>\n",
       "      <td>NaN</td>\n",
       "    </tr>\n",
       "  </tbody>\n",
       "</table>\n",
       "</div>"
      ],
      "text/plain": [
       "     과일이름   품종    원가   할인  수량  합계\n",
       "                                 \n",
       "1   apple  신선한  4400  0.2   3 NaN\n",
       "2  banana  궁금한  5000  0.3   8 NaN\n",
       "3    kiwi  맛있는  2500  0.2  11 NaN\n",
       "4   melon  최적의  7000  0.1  22 NaN\n",
       "5  orange   웰빙  2000  0.2   6 NaN\n",
       "6   mango  유기농  8800  0.3   5 NaN"
      ]
     },
     "execution_count": 76,
     "metadata": {},
     "output_type": "execute_result"
    }
   ],
   "source": [
    "df3.loc[:,'품종'] = df3.loc[:,'품종'].astype('object')\n",
    "df3.loc[:,'품종'] = ['신선한','궁금한','맛있는','최적의','웰빙','유기농']\n",
    "df3.loc[:,'할인'] = [0.2,0.3,0.2,0.1,0.2,0.3]\n",
    "df3"
   ]
  },
  {
   "cell_type": "code",
   "execution_count": null,
   "id": "a448de1a",
   "metadata": {},
   "outputs": [],
   "source": []
  }
 ],
 "metadata": {
  "kernelspec": {
   "display_name": "Python 3 (ipykernel)",
   "language": "python",
   "name": "python3"
  },
  "language_info": {
   "codemirror_mode": {
    "name": "ipython",
    "version": 3
   },
   "file_extension": ".py",
   "mimetype": "text/x-python",
   "name": "python",
   "nbconvert_exporter": "python",
   "pygments_lexer": "ipython3",
   "version": "3.13.3"
  }
 },
 "nbformat": 4,
 "nbformat_minor": 5
}

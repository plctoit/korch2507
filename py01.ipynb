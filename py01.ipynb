{
 "cells": [
  {
   "cell_type": "code",
   "execution_count": 1,
   "id": "0aef8309-937a-4ef7-8197-c74a209f7cef",
   "metadata": {},
   "outputs": [
    {
     "name": "stdout",
     "output_type": "stream",
     "text": [
      "Python 3.13.3\n"
     ]
    }
   ],
   "source": [
    "# 파이썬시작\n",
    "!python -V"
   ]
  },
  {
   "cell_type": "code",
   "execution_count": 2,
   "id": "707e7a0d",
   "metadata": {},
   "outputs": [
    {
     "name": "stdout",
     "output_type": "stream",
     "text": [
      "pip 25.1.1 from C:\\Users\\user\\AppData\\Local\\Programs\\Python\\Python313\\Lib\\site-packages\\pip (python 3.13)\n",
      "\n"
     ]
    }
   ],
   "source": [
    "!pip -V"
   ]
  },
  {
   "cell_type": "markdown",
   "id": "464d961a",
   "metadata": {},
   "source": [
    "# 내장함수"
   ]
  },
  {
   "cell_type": "code",
   "execution_count": 3,
   "id": "e759b98a",
   "metadata": {},
   "outputs": [
    {
     "name": "stdout",
     "output_type": "stream",
     "text": [
      "3\n",
      "1.2\n"
     ]
    }
   ],
   "source": [
    "# abs 절대값으로 양수변환\n",
    "print(abs(-3))\n",
    "print(abs(-1.2))"
   ]
  },
  {
   "cell_type": "code",
   "execution_count": 4,
   "id": "f2bd28ed",
   "metadata": {},
   "outputs": [
    {
     "name": "stdout",
     "output_type": "stream",
     "text": [
      "True\n",
      "False\n",
      "True\n"
     ]
    }
   ],
   "source": [
    "# all \n",
    "print(all([1,1,1]))\n",
    "print(all([1,1,1,2,3,0,54,6,4,6,4,10]))\n",
    "print(all([])) # 빈리스트는 True로 간주"
   ]
  },
  {
   "cell_type": "code",
   "execution_count": 5,
   "id": "fa8167cc",
   "metadata": {},
   "outputs": [
    {
     "name": "stdout",
     "output_type": "stream",
     "text": [
      "True\n",
      "False\n",
      "False\n",
      "False\n"
     ]
    }
   ],
   "source": [
    "print(any([1,2,3,4,5,0,12,3,4,5]))\n",
    "print(any([0,0,0]))\n",
    "print(any([0,False,\"\"]))\n",
    "print(any([])) # 빈리스트는 False로 간주"
   ]
  },
  {
   "cell_type": "code",
   "execution_count": 6,
   "id": "ec315b2f",
   "metadata": {},
   "outputs": [
    {
     "name": "stdout",
     "output_type": "stream",
     "text": [
      "A\n",
      "G\n",
      "65\n",
      "71\n",
      "가\n",
      "\u001e\n",
      "\n",
      "\u001e\n",
      "\n"
     ]
    }
   ],
   "source": [
    "# 아스키코드(ASCII code) - 정의: 컴퓨터가 문자를 숫자로 표현하는 방법\n",
    "# 아스키코드는 0부터 127까지의 숫자로 구성된 문자 인코딩 체계입니다.\n",
    "# 유니코드 (Unicode)는 전 세계의 모든 문자를 표현할 수 있는 문자 인코딩 체계로, 아스키 코드를 포함합니다.\n",
    "print(chr(65))  # 65는 'A'에 해당\n",
    "print(chr(71))  # 71은 'G'에 해당\n",
    "print(ord('A'))  # 'A'의 아스키 코드 값은 65\n",
    "print(ord('G'))  # 'G'의 아스키 코드 값은 71\n",
    "print(chr(44032)) # '가'에 해당\n",
    "ox = 30 # 16진수 값을 받은 변수\n",
    "print(chr(int(hex(ox)[2:],16))) # '0x1e' 에서 '0x'를 제외하고 16진수로 변환한 후 문자로 변환\n",
    "print(chr(int(hex(ox),16))) # '0'에 해당  "
   ]
  },
  {
   "cell_type": "code",
   "execution_count": 7,
   "id": "79c2eddb",
   "metadata": {},
   "outputs": [
    {
     "name": "stdout",
     "output_type": "stream",
     "text": [
      "[1, 2, 3, 4]\n"
     ]
    }
   ],
   "source": [
    "arr1 = [1,2,3,4,5]\n",
    "p1 = arr1.pop()\n",
    "print(arr1)"
   ]
  },
  {
   "cell_type": "code",
   "execution_count": 8,
   "id": "c5d09afa",
   "metadata": {},
   "outputs": [],
   "source": [
    "# dir 객체가 가지고 있는 함수를 보여줌\n",
    "# dir([1,2,3])  # 리스트 객체의 메소드와 속성\n",
    "# dir((1,2,3))\n",
    "# dir({'1':'a', '2':'b', '3':'c'})"
   ]
  },
  {
   "cell_type": "code",
   "execution_count": 9,
   "id": "6889fafd",
   "metadata": {},
   "outputs": [
    {
     "name": "stdout",
     "output_type": "stream",
     "text": [
      "3\n",
      "1\n",
      "(3, 1)\n"
     ]
    }
   ],
   "source": [
    "print(13 // 4)\n",
    "print(13 % 4)  # 나머지 연산\n",
    "print(divmod(13, 4))  # 몫과 나머지를 튜플로 반환"
   ]
  },
  {
   "cell_type": "code",
   "execution_count": 10,
   "id": "bde11932",
   "metadata": {},
   "outputs": [
    {
     "name": "stdout",
     "output_type": "stream",
     "text": [
      "range(1, 10)\n"
     ]
    }
   ],
   "source": [
    "print(range(1,10))"
   ]
  },
  {
   "cell_type": "code",
   "execution_count": 11,
   "id": "65b9bacc",
   "metadata": {},
   "outputs": [
    {
     "name": "stdout",
     "output_type": "stream",
     "text": [
      "1 번째 apple\n",
      "2 번째 banana\n",
      "3 번째 cherry\n",
      "4 번째 mango\n",
      "5 번째 kiwi\n"
     ]
    }
   ],
   "source": [
    "fruit = ['apple', 'banana', 'cherry', 'mango','kiwi']\n",
    "for i, f in enumerate(fruit):\n",
    "    print((i+1),\"번째\",f)"
   ]
  },
  {
   "cell_type": "code",
   "execution_count": 12,
   "id": "6b3e3d2a",
   "metadata": {},
   "outputs": [
    {
     "name": "stdout",
     "output_type": "stream",
     "text": [
      "1 apple cat\n",
      "2 banana dog\n",
      "3 cherry rabbit\n",
      "4 mango tiger\n",
      "5 kiwi lion\n"
     ]
    }
   ],
   "source": [
    "fruit = ['apple', 'banana', 'cherry', 'mango','kiwi']\n",
    "animals = ['cat', 'dog', 'rabbit', 'tiger','lion']\n",
    "for i, (f, a) in enumerate(zip(fruit, animals), start=1):\n",
    "    print(i, f, a)"
   ]
  },
  {
   "cell_type": "code",
   "execution_count": 13,
   "id": "a561aab1",
   "metadata": {},
   "outputs": [
    {
     "name": "stdout",
     "output_type": "stream",
     "text": [
      "['좋아'] 1\n",
      "[] 0\n",
      "긍정적인 기분이네요!\n"
     ]
    }
   ],
   "source": [
    "positive_words = [\"좋아\",\"행복\",\"멋져\",\"최고\",\"사랑해\"]\n",
    "negative_words = [\"싫어\",\"슬퍼\",\"짜증나\",\"최악\",\"나빠\"]\n",
    "text = input(\"당신의 기분을 한 문장으로 표현해주세요.\")\n",
    "# 방법1\n",
    "# for v in positive_words:\n",
    "#     if v in text:\n",
    "#         print(\"긍정적인 기분이네요!\")\n",
    "#         break\n",
    "# for n in negative_words:\n",
    "#     if n in text:\n",
    "#         print(\"부정적인 기분이네요!\")\n",
    "#         break\n",
    "\n",
    "# 방법2\n",
    "# if any(v in text for v in positive_words):\n",
    "#     print(\"긍정적인 기분이네요!\")\n",
    "# elif any(n in text for n in negative_words):\n",
    "#     print(\"부정적인 기분이네요!\")\n",
    "# else:\n",
    "#     print(\"기분이 보통이네요.\")\n",
    "\n",
    "# 방법3\n",
    "pos = [v for v in positive_words if v in text]\n",
    "print(pos, len(pos))\n",
    "neg = [n for n in negative_words if n in text]\n",
    "print(neg, len(neg))\n",
    "if len(pos) > len(neg):\n",
    "    print(\"긍정적인 기분이네요!\")\n",
    "elif len(pos) < len(neg):\n",
    "    print(\"부정적인 기분이네요!\")\n",
    "else:\n",
    "    print(\"기분이 보통이네요.\")"
   ]
  },
  {
   "cell_type": "code",
   "execution_count": 16,
   "id": "f30d9525",
   "metadata": {},
   "outputs": [
    {
     "name": "stderr",
     "output_type": "stream",
     "text": [
      "java version \"24.0.1\" 2025-04-15\n",
      "Java(TM) SE Runtime Environment (build 24.0.1+9-30)\n",
      "Java HotSpot(TM) 64-Bit Server VM (build 24.0.1+9-30, mixed mode, sharing)\n"
     ]
    }
   ],
   "source": [
    "!java -version"
   ]
  },
  {
   "cell_type": "code",
   "execution_count": null,
   "id": "4c297685",
   "metadata": {},
   "outputs": [
    {
     "name": "stdout",
     "output_type": "stream",
     "text": [
      "['나쁘다']\n"
     ]
    }
   ],
   "source": [
    "# !pip install konlpy\n",
    "from konlpy.tag import Okt\n",
    "\n",
    "# 한글 형태소 분석기\n",
    "okt = Okt()\n",
    "# positive_words = [\"좋다\",\"행복\",\"멋지다\",\"최고\",\"사랑\"]\n",
    "# negative_words = [\"싫다\",\"슬프다\",\"짜증나다\",\"최악\",\"나쁘다\"]\n",
    "text = input(\"당신의 기분을 한 문장으로 표현해주세요.\")\n",
    "\n",
    "words = okt.morphs(text,stem=True)  # 형태소 단위로 분리\n",
    "print(words)"
   ]
  },
  {
   "cell_type": "markdown",
   "id": "9e2baa57",
   "metadata": {},
   "source": [
    "## filter 와 map"
   ]
  },
  {
   "cell_type": "code",
   "execution_count": 36,
   "id": "f259a688",
   "metadata": {},
   "outputs": [
    {
     "name": "stdout",
     "output_type": "stream",
     "text": [
      "[1, 3, 4, 3, 5]\n"
     ]
    }
   ],
   "source": [
    "# filter 는 true인 값만 남김\n",
    "data = [1, -2, 3, 4, -5, 0, -1, 3, -4, 5]\n",
    "def pos(v):\n",
    "    return v > 0  # 양수인 경우에만 True를 반환\n",
    "print(list(filter( pos, data)))"
   ]
  },
  {
   "cell_type": "code",
   "execution_count": 31,
   "id": "f9dd8d9e",
   "metadata": {},
   "outputs": [
    {
     "name": "stdout",
     "output_type": "stream",
     "text": [
      "[1, 3, 4, 3, 5]\n"
     ]
    }
   ],
   "source": [
    "# filter 는 true인 값만 남김\n",
    "data = [1, -2, 3, 4, -5, 0, -1, 3, -4, 5]\n",
    "print(list(filter( lambda v : v > 0, data)))"
   ]
  },
  {
   "cell_type": "code",
   "execution_count": null,
   "id": "e2adce37",
   "metadata": {},
   "outputs": [
    {
     "name": "stdout",
     "output_type": "stream",
     "text": [
      "[1, 4, 9, 16, 25, 0, 1, 9, 16, 25]\n"
     ]
    }
   ],
   "source": [
    "# map 함수는 각 요소에 함수를 적용하여 새로운 리스트를 생성\n",
    "data = [1, -2, 3, 4, -5, 0, -1, 3, -4, 5]\n",
    "def pow(v):\n",
    "    return v ** 2  # 제곱을 반환\n",
    "print(list(map(pow, data)))  # 각 요소에 pow 함수를 적용하여 새로운 리스트 생성"
   ]
  },
  {
   "cell_type": "code",
   "execution_count": null,
   "id": "d1f25158",
   "metadata": {},
   "outputs": [
    {
     "name": "stdout",
     "output_type": "stream",
     "text": [
      "[1, 4, 9, 16, 25, 0, 1, 9, 16, 25]\n"
     ]
    }
   ],
   "source": [
    "# map 방식2\n",
    "data = [1, -2, 3, 4, -5, 0, -1, 3, -4, 5]\n",
    "print(list(map(lambda v: v**2, data)))"
   ]
  },
  {
   "cell_type": "markdown",
   "id": "c888dac5",
   "metadata": {},
   "source": []
  },
  {
   "cell_type": "code",
   "execution_count": null,
   "id": "bd5b8656",
   "metadata": {},
   "outputs": [
    {
     "name": "stdout",
     "output_type": "stream",
     "text": [
      "[1, 3, 5, 7, 9]\n",
      "[2, 4, 6, 8, 10]\n",
      "[11, 12, 13, 14, 15, 16, 17, 18, 19, 20]\n",
      "[10, 20, 30, 40, 50, 60, 70, 80, 90, 100]\n",
      "[11, 24, 39, 56, 75, 96, 119, 144, 171, 200]\n"
     ]
    }
   ],
   "source": [
    "# filter와 map을 사용한 실습\n",
    "lis = list(range(1, 11))  # 1부터 10까지의 숫자를 포함하는 리스트 생성\n",
    "def odd(x):\n",
    "    return x % 2 == 1  # 홀수인 경우에만 True를 반환\n",
    "def even(x):\n",
    "    return x % 2 == 0  # 짝수인 경우에만 True를 반환\n",
    "def add(x):\n",
    "    return x + 10  # 10을 더한 값을 반환\n",
    "def mul(x):\n",
    "    return x * 10  # 10을 곱한 값을 반환    \n",
    "def addmul(x):\n",
    "    return (x + 10) * x  # 10을 더한 후 x를 곱한 값을 반환\n",
    "\n",
    "print(list(filter(odd, lis)))  # 홀수만 필터링\n",
    "print(list(filter(even, lis)))  # 짝수만 필터링\n",
    "print(list(map(add, lis)))  # 각 요소에 10을 더함\n",
    "print(list(map(mul, lis)))  # 각 요소에 10을 곱함   \n",
    "print(list(map(addmul, lis)))  # 각 요소에 10을 더한 후 곱함"
   ]
  },
  {
   "cell_type": "code",
   "execution_count": 5,
   "id": "98df53ee",
   "metadata": {},
   "outputs": [
    {
     "name": "stdout",
     "output_type": "stream",
     "text": [
      "5\n",
      "o\n",
      "104 101 108 108 111\n"
     ]
    }
   ],
   "source": [
    "# max\n",
    "print(max([1, 2, 3, 4, 5]))  # 최대값\n",
    "print(max(\"hello\"))  # ascii 코드로 최대값\n",
    "print(ord('h'), ord('e'), ord('l'), ord('l'), ord('o'))  # 각 문자에 대한 ascii 코드의 최대값"
   ]
  },
  {
   "cell_type": "code",
   "execution_count": 6,
   "id": "eee8836c",
   "metadata": {},
   "outputs": [
    {
     "name": "stdout",
     "output_type": "stream",
     "text": [
      "1\n",
      "e\n",
      "104 101 108 108 111\n"
     ]
    }
   ],
   "source": [
    "# min\n",
    "print(min([1, 2, 3, 4, 5]))  # 최대값\n",
    "print(min(\"hello\"))  # ascii 코드로 최대값\n",
    "print(ord('h'), ord('e'), ord('l'), ord('l'), ord('o'))  # 각 문자에 대한 ascii 코드의 최대값"
   ]
  },
  {
   "cell_type": "code",
   "execution_count": 9,
   "id": "83ee879a",
   "metadata": {},
   "outputs": [
    {
     "name": "stdout",
     "output_type": "stream",
     "text": [
      "256\n",
      "65536\n",
      "4294967296\n"
     ]
    }
   ],
   "source": [
    "# pow\n",
    "print(pow(2, 8))  # 2의 8제곱\n",
    "print(pow(2, 16))  # 2의 8제곱\n",
    "print(pow(2, 32))  # 2의 8제곱"
   ]
  },
  {
   "cell_type": "code",
   "execution_count": null,
   "id": "b2d9ce2a",
   "metadata": {},
   "outputs": [
    {
     "name": "stdout",
     "output_type": "stream",
     "text": [
      "3\n",
      "3.1\n",
      "3.14\n",
      "3.142\n"
     ]
    }
   ],
   "source": [
    "# round * 반올림\n",
    "print(round(3.141592))\n",
    "print(round(3.141592,1))\n",
    "print(round(3.141592,2))\n",
    "print(round(3.141592,3))"
   ]
  },
  {
   "cell_type": "code",
   "execution_count": 14,
   "id": "942d7f01",
   "metadata": {},
   "outputs": [
    {
     "name": "stdout",
     "output_type": "stream",
     "text": [
      "3\n"
     ]
    }
   ],
   "source": [
    "# floor * 내림\n",
    "import math\n",
    "print(math.floor(3.141592))"
   ]
  },
  {
   "cell_type": "code",
   "execution_count": null,
   "id": "77430de8",
   "metadata": {},
   "outputs": [
    {
     "name": "stdout",
     "output_type": "stream",
     "text": [
      "3.141592\n",
      "3.1\n",
      "3.14\n",
      "3.142\n"
     ]
    }
   ],
   "source": [
    "# f스트링\n",
    "pi = 3.141592\n",
    "print(pi)\n",
    "print(f\"{pi:.1f}\")\n",
    "print(f\"{pi:.2f}\")\n",
    "print(f\"{pi:.3f}\")"
   ]
  },
  {
   "cell_type": "code",
   "execution_count": null,
   "id": "7934b5cc",
   "metadata": {},
   "outputs": [
    {
     "name": "stdout",
     "output_type": "stream",
     "text": [
      "[0, 1, 2, 3, 4, 5, 6, 7, 8, 9]\n",
      "[0, 2, 4, 6, 8]\n",
      "[10, 9, 8, 7, 6, 5, 4, 3, 2, 1]\n",
      "[9, 8, 7, 6, 5, 4, 3, 2, 1, 0]\n"
     ]
    }
   ],
   "source": [
    "# range\n",
    "print(list((range(0,10,1)))) # range(10)과 동일\n",
    "print(list(range(0,10,2)))\n",
    "print(list(range(10,0,-1)))\n",
    "print(list(range(9,-1,-1)))"
   ]
  },
  {
   "cell_type": "code",
   "execution_count": 1,
   "id": "33013462",
   "metadata": {},
   "outputs": [
    {
     "name": "stdout",
     "output_type": "stream",
     "text": [
      "[3, 1, 4, 2, 5, 8, 6, 7, 9, 0]\n",
      "[0, 1, 2, 3, 4, 5, 6, 7, 8, 9]\n",
      "[9, 8, 7, 6, 5, 4, 3, 2, 1, 0]\n"
     ]
    }
   ],
   "source": [
    "# sorted(iterable) * 정렬된 리스트로 리턴\n",
    "s0 = [3,1,4,2,5,8,6,7,9,0]\n",
    "s1 = sorted(s0)  # 오름차순 정렬\n",
    "s2 = sorted(s0, reverse=True)  # 내림차순 정렬\n",
    "print(s0)\n",
    "print(s1)\n",
    "print(s2)    "
   ]
  },
  {
   "cell_type": "code",
   "execution_count": 3,
   "id": "bc6dde1a",
   "metadata": {},
   "outputs": [
    {
     "name": "stdout",
     "output_type": "stream",
     "text": [
      "23 <class 'int'>\n",
      "23 <class 'str'>\n",
      "23 <class 'int'>\n"
     ]
    }
   ],
   "source": [
    "num = 23\n",
    "st = str(num)  # 숫자를 문자열로 변환\n",
    "print(num, type(num))\n",
    "print(st, type(st))  # 문자열로 변환된 num과 그 타입 출력\n",
    "num2 = int(st) # 문자열을 다시 숫자로 변환\n",
    "print(num2, type(num2))  # 변환된 num2와 그 타입 출력"
   ]
  },
  {
   "cell_type": "code",
   "execution_count": 8,
   "id": "64e4f4bc",
   "metadata": {},
   "outputs": [
    {
     "name": "stdout",
     "output_type": "stream",
     "text": [
      "45\n",
      "2550\n"
     ]
    }
   ],
   "source": [
    "s3 = [3,1,4,2,5,8,6,7,9,0]\n",
    "print(sum(s3))\n",
    "print(sum(list(range(0,101,2)))) # 0부터 100까지의 짝수의 합"
   ]
  },
  {
   "cell_type": "code",
   "execution_count": 12,
   "id": "9b88cf1f",
   "metadata": {},
   "outputs": [
    {
     "name": "stdout",
     "output_type": "stream",
     "text": [
      " D 드라이브의 볼륨에는 이름이 없습니다.\n",
      " 볼륨 일련 번호: 2638-3820\n",
      "\n",
      " D:\\kys 디렉터리\n",
      "\n",
      "[.]                           [.ipynb_checkpoints]\n",
      "myserver.bat                  [my_lec02_webshare_v4_av1Nat]\n",
      "[node_modules]                package-lock.json\n",
      "package.json                  [public]\n",
      "[publicx]                     server.js\n",
      "[Telegram]                    [web]\n",
      "               4개 파일              60,839 바이트\n",
      "               8개 디렉터리  247,404,883,968 바이트 남음\n"
     ]
    }
   ],
   "source": [
    "!dir/w"
   ]
  },
  {
   "cell_type": "code",
   "execution_count": 29,
   "id": "357b0ed9",
   "metadata": {},
   "outputs": [
    {
     "name": "stdout",
     "output_type": "stream",
     "text": [
      "새로운 줄 작성\n",
      "\n"
     ]
    }
   ],
   "source": [
    "# open 으로 파일 읽기\n",
    "f = open(\"D:\\\\kys\\\\public\\\\test.txt\", \"r\", encoding=\"utf-8\")  # 파일 열기 (읽기 모드) , // w 쓰기모드, r 읽기모드, a 추가모드\n",
    "# contents = f.read() # 파일 내용 읽기\n",
    "# contents = f.read(5) # 첫 5바이트 읽기\n",
    "contents = f.readline() # 한 줄 읽기\n",
    "print(contents)  # 파일 내용 출력\n",
    "f.close()  # 파일 닫기"
   ]
  },
  {
   "cell_type": "code",
   "execution_count": 20,
   "id": "dd44cc04",
   "metadata": {},
   "outputs": [
    {
     "name": "stdout",
     "output_type": "stream",
     "text": [
      "파일에 내용이 작성되었습니다.\n"
     ]
    }
   ],
   "source": [
    "# open 으로 파일 쓰기\n",
    "f = open(\"D:\\\\kys\\\\public\\\\test.txt\", \"w\", encoding=\"utf-8\")  # 파일 열기 (쓰기 모드)\n",
    "f.write(\"제가 프로그래밍으로 내용을 작성하였습니다.\")  # 파일에 내용 쓰기\n",
    "print(\"파일에 내용이 작성되었습니다.\")  # 파일에 내용이 작성되었음을 알림\n",
    "f.close()  # 파일 닫기\n"
   ]
  },
  {
   "cell_type": "code",
   "execution_count": 26,
   "id": "1f8fb8eb",
   "metadata": {},
   "outputs": [
    {
     "name": "stdout",
     "output_type": "stream",
     "text": [
      "파일에 내용이 추가되었습니다.\n"
     ]
    }
   ],
   "source": [
    "# open 으로 파일 내용 추가모드\n",
    "f = open(\"D:\\\\kys\\\\public\\\\test.txt\", \"a\", encoding=\"utf-8\")  # 파일 열기 (쓰기 모드)\n",
    "f.write(\"새로운 줄 작성\\n\")  # 파일에 내용 쓰기\n",
    "print(\"파일에 내용이 추가되었습니다.\")  # 파일에 내용이 추가되었음을 알림\n",
    "f.close()  # 파일 닫기\n"
   ]
  },
  {
   "cell_type": "code",
   "execution_count": 35,
   "id": "bec56add",
   "metadata": {},
   "outputs": [
    {
     "name": "stdout",
     "output_type": "stream",
     "text": [
      "파일로 성적을 저장하였습니다.\n"
     ]
    }
   ],
   "source": [
    "# if elif else 조건 실습, with open 으로 파일 쓰기\n",
    "학생들 = [90,82,45,71,60]\n",
    "\n",
    "with open(\"D:\\\\kys\\\\public\\\\성적.txt\", \"w\", encoding=\"utf-8\") as f:\n",
    "    for 점수 in 학생들:\n",
    "        if 점수 >= 90:\n",
    "            학점 = \"A\"\n",
    "        elif 점수 >= 80:\n",
    "            학점 = \"B\"\n",
    "        elif 점수 >= 70:\n",
    "            학점 = \"C\"\n",
    "        elif 점수 >= 60:\n",
    "            학점 = \"D\"\n",
    "        else:\n",
    "            학점 = \"F\"\n",
    "        f.write(f\"점수: {점수}, 학점: {학점}\\n\")\n",
    "    print(f\"파일로 성적을 저장하였습니다.\")"
   ]
  },
  {
   "cell_type": "code",
   "execution_count": 43,
   "id": "8cd8fe10",
   "metadata": {},
   "outputs": [
    {
     "name": "stdout",
     "output_type": "stream",
     "text": [
      "오류 발생: 점수는 0에서 100 사이여야 합니다.\n",
      "파일이 비정상 저장.\n"
     ]
    }
   ],
   "source": [
    "# if 조건만 실습, 예외처리\n",
    "학생들 = [90,82,110,45,71,60]\n",
    "try:\n",
    "    f = open(\"D:\\\\kys\\\\public\\\\성적2.txt\", \"w\", encoding=\"utf-8\")\n",
    "    for 점수 in 학생들:\n",
    "        if 점수 > 100 or 점수 < 0:\n",
    "            f.write(f\"에러발생 중단\")\n",
    "            raise ValueError(\"점수는 0에서 100 사이여야 합니다.\")\n",
    "        if 점수 >= 90 and 점수 <= 100:\n",
    "            학점 = \"A\"\n",
    "        if 점수 >= 80 and 점수 < 90:\n",
    "            학점 = \"B\"\n",
    "        if 점수 >= 70 and 점수 < 80:\n",
    "            학점 = \"C\"\n",
    "        if 점수 >= 60 and 점수 < 70:\n",
    "            학점 = \"D\"\n",
    "        if 점수 < 60:\n",
    "            학점 = \"F\"\n",
    "        f.write(f\"점수: {점수}, 학점: {학점}\\n\")\n",
    "    print(f\"파일로 성적을 성공적으로 저장하였습니다.\")\n",
    "except ValueError as e:\n",
    "    print(f\"오류 발생: {e}\")\n",
    "    print(f\"파일이 비정상 저장.\")\n",
    "finally:\n",
    "    f.close()"
   ]
  },
  {
   "cell_type": "markdown",
   "id": "df20341f",
   "metadata": {},
   "source": [
    "## 표준 라이브러리"
   ]
  },
  {
   "cell_type": "code",
   "execution_count": 49,
   "id": "4e533c3f",
   "metadata": {},
   "outputs": [
    {
     "name": "stdout",
     "output_type": "stream",
     "text": [
      "2025-01-22와 2025-08-14의 차이는 204일입니다.\n",
      "========================================\n",
      "전체 수업기간: 204 일\n",
      "남은 수업기간: 37 일\n",
      "지난 수업기간: 167 일\n"
     ]
    }
   ],
   "source": [
    "# datetime 모듈\n",
    "import datetime\n",
    "day1 = datetime.date(2025, 1, 22)  # 날짜 객체 생성\n",
    "day2 = datetime.date(2025, 8, 14)  # 또 다른 날짜 객체 생성\n",
    "diff = day2 - day1  # 날짜 차이 계산\n",
    "# diff2 = day2 - datetime.datetime.now().date()  # 현재 날짜와 day2의 차이 계산\n",
    "diff2 = day2 - datetime.date.today()  # 현재 날짜와 day2의 차이 계산\n",
    "print(f\"{day1}와 {day2}의 차이는 {diff.days}일입니다.\")  # 날짜 차이 출력\n",
    "print(\"=\"*40)\n",
    "print(\"전체 수업기간:\", diff.days, \"일\")\n",
    "print(\"남은 수업기간:\", diff2.days, \"일\")\n",
    "print(\"지난 수업기간:\", diff.days - diff2.days, \"일\")"
   ]
  },
  {
   "cell_type": "code",
   "execution_count": 51,
   "id": "0c54f1f5",
   "metadata": {},
   "outputs": [
    {
     "name": "stdout",
     "output_type": "stream",
     "text": [
      "2025-07-08은 화요일입니다.\n"
     ]
    }
   ],
   "source": [
    "# 요일 확인\n",
    "days = [\"월\", \"화\", \"수\", \"목\", \"금\", \"토\", \"일\"]\n",
    "day = datetime.date(2025, 7, 8)  # 날짜 객체 생성\n",
    "print(f\"{day}은 {days[day.weekday()]}요일입니다.\")  # 요일 출력"
   ]
  },
  {
   "cell_type": "code",
   "execution_count": 52,
   "id": "fdc2e062",
   "metadata": {},
   "outputs": [
    {
     "name": "stdout",
     "output_type": "stream",
     "text": [
      "1751953085.4857905\n"
     ]
    }
   ],
   "source": [
    "# time\n",
    "import time\n",
    "print(time.time())  # 현재 시간을 초 단위로 출력"
   ]
  },
  {
   "cell_type": "code",
   "execution_count": 55,
   "id": "ed3edac1",
   "metadata": {},
   "outputs": [
    {
     "name": "stdout",
     "output_type": "stream",
     "text": [
      "time.struct_time(tm_year=2025, tm_mon=7, tm_mday=8, tm_hour=14, tm_min=42, tm_sec=23, tm_wday=1, tm_yday=189, tm_isdst=0)\n",
      "2025\n"
     ]
    }
   ],
   "source": [
    "# time.localtime()  # 현재 시간을 로컬 시간으로 변환\n",
    "tt = time.localtime(time.time())\n",
    "print(tt)  # 로컬 시간 출력\n",
    "print(tt.tm_year)"
   ]
  },
  {
   "cell_type": "code",
   "execution_count": 56,
   "id": "c13e175c",
   "metadata": {},
   "outputs": [
    {
     "name": "stdout",
     "output_type": "stream",
     "text": [
      "Tue Jul  8 14:42:23 2025\n"
     ]
    }
   ],
   "source": [
    "# time.asctime()  # 로컬 시간을 문자열로 변환\n",
    "print(time.asctime(tt))  # 로컬 시간을 문자열로 변환하여 출력"
   ]
  },
  {
   "cell_type": "code",
   "execution_count": 58,
   "id": "8ad33c61",
   "metadata": {},
   "outputs": [
    {
     "name": "stdout",
     "output_type": "stream",
     "text": [
      "Tue Jul  8 14:44:37 2025\n"
     ]
    }
   ],
   "source": [
    "# time.ctime()  # 현재 시간을 문자열로 변환\n",
    "print(time.ctime())  # 현재 시간을 문자열로 변환하여 출력"
   ]
  },
  {
   "cell_type": "code",
   "execution_count": 60,
   "id": "afefe66f",
   "metadata": {},
   "outputs": [
    {
     "name": "stdout",
     "output_type": "stream",
     "text": [
      "2025-07-08 // 14:42:23\n"
     ]
    }
   ],
   "source": [
    "# time.strftime()  # 현재 시간을 지정된 형식으로 문자열로 변환\n",
    "print(time.strftime(\"%Y-%m-%d // %H:%M:%S\", tt))  # 지정된 형식으로 현재 시간을 문자열로 변환하여 출력\n"
   ]
  },
  {
   "cell_type": "code",
   "execution_count": 64,
   "id": "79a99086",
   "metadata": {},
   "outputs": [
    {
     "name": "stdout",
     "output_type": "stream",
     "text": [
      "카운트: 763\r"
     ]
    },
    {
     "ename": "KeyboardInterrupt",
     "evalue": "",
     "output_type": "error",
     "traceback": [
      "\u001b[31m---------------------------------------------------------------------------\u001b[39m",
      "\u001b[31mKeyboardInterrupt\u001b[39m                         Traceback (most recent call last)",
      "\u001b[36mCell\u001b[39m\u001b[36m \u001b[39m\u001b[32mIn[64]\u001b[39m\u001b[32m, line 4\u001b[39m\n\u001b[32m      2\u001b[39m \u001b[38;5;28;01mfor\u001b[39;00m i \u001b[38;5;129;01min\u001b[39;00m \u001b[38;5;28mrange\u001b[39m(\u001b[32m1000\u001b[39m):\n\u001b[32m      3\u001b[39m     \u001b[38;5;28mprint\u001b[39m(\u001b[33mf\u001b[39m\u001b[33m\"\u001b[39m\u001b[33m카운트: \u001b[39m\u001b[38;5;132;01m{\u001b[39;00mi+\u001b[32m1\u001b[39m\u001b[38;5;132;01m}\u001b[39;00m\u001b[33m\"\u001b[39m,end=\u001b[33m\"\u001b[39m\u001b[38;5;130;01m\\r\u001b[39;00m\u001b[33m\"\u001b[39m)\n\u001b[32m----> \u001b[39m\u001b[32m4\u001b[39m     \u001b[43mt\u001b[49m\u001b[43m.\u001b[49m\u001b[43msleep\u001b[49m\u001b[43m(\u001b[49m\u001b[32;43m1\u001b[39;49m\u001b[43m)\u001b[49m\n",
      "\u001b[31mKeyboardInterrupt\u001b[39m: "
     ]
    }
   ],
   "source": [
    "import time as t\n",
    "for i in range(1000):\n",
    "    print(f\"카운트: {i+1}\",end=\"\\r\")\n",
    "    t.sleep(1)\n"
   ]
  },
  {
   "cell_type": "code",
   "execution_count": 66,
   "id": "5be42832",
   "metadata": {},
   "outputs": [
    {
     "name": "stdout",
     "output_type": "stream",
     "text": [
      "100% | ■■■■■■■■■■■■■■■■■■■■■■■■■■■■■■■■■■■■■■■■■■■■■■■■■■■■■■■■■■■■■■■■■■■■■■■■■■■■■■■■■■■■■■■■■■■■■■■■■■■■\r"
     ]
    }
   ],
   "source": [
    "import time as t\n",
    "str = '■'\n",
    "for i in range(101):\n",
    "    print(f\"{i:<3}% | {str*(i//1):<10}\",end=\"\\r\")\n",
    "    t.sleep(0.1)"
   ]
  },
  {
   "cell_type": "code",
   "execution_count": 68,
   "id": "5bc69be0",
   "metadata": {},
   "outputs": [
    {
     "name": "stdout",
     "output_type": "stream",
     "text": [
      "3.141592653589793\n",
      "2.718281828459045\n",
      "20\n",
      "60\n"
     ]
    }
   ],
   "source": [
    "# math 모듈\n",
    "import math\n",
    "print(math.pi)  # 파이 값 출력\n",
    "print(math.e)  # 자연상수 e 출력\n",
    "# gcd, lcm\n",
    "print(math.gcd(60, 100, 80))  # 최대공약수\n",
    "print(math.lcm(12, 15))  # 최소공배수"
   ]
  },
  {
   "cell_type": "code",
   "execution_count": 69,
   "id": "f504a09d",
   "metadata": {},
   "outputs": [
    {
     "name": "stdout",
     "output_type": "stream",
     "text": [
      "0.6237526569485875\n",
      "10\n"
     ]
    }
   ],
   "source": [
    "# random 모듈\n",
    "import random\n",
    "print(random.random())  # 0.0부터 1.0까지의 랜덤 실수\n",
    "print(random.randint(1, 10))  # 1부터 10까지의 랜덤 정수"
   ]
  },
  {
   "cell_type": "markdown",
   "id": "ae2b5ab1",
   "metadata": {},
   "source": [
    "## tools"
   ]
  },
  {
   "cell_type": "code",
   "execution_count": 73,
   "id": "5c63662b",
   "metadata": {},
   "outputs": [
    {
     "name": "stdout",
     "output_type": "stream",
     "text": [
      "[('한민서', '과자'), ('김지민', '초콜릿'), ('박서준', '사탕')]\n",
      "[('한민서', '과자'), ('김지민', '초콜릿'), ('박서준', '사탕'), ('이수현', '칸초'), ('최영수', '칸초')]\n"
     ]
    }
   ],
   "source": [
    "import itertools\n",
    "students = [\"한민서\", \"김지민\", \"박서준\", \"이수현\", \"최영수\"]\n",
    "snacks= [\"과자\", \"초콜릿\", \"사탕\" ]\n",
    "result = zip(students, snacks)  # 학생과 간식을 짝지음, zip은 작은 배열에 길이를 맞춤\n",
    "print(list(result))  # 결과를 리스트로 변환하여 출력\n",
    "\n",
    "result2 = itertools.zip_longest(students, snacks, fillvalue=\"칸초\") # 짝이 없는 학생은 \"칸초\"로 채움\n",
    "print(list(result2))  # 결과를 리스트로 변환하여 출력\n"
   ]
  },
  {
   "cell_type": "code",
   "execution_count": 75,
   "id": "2f1545a0",
   "metadata": {},
   "outputs": [
    {
     "name": "stdout",
     "output_type": "stream",
     "text": [
      "8145060\n"
     ]
    }
   ],
   "source": [
    "# itertools.combination \n",
    "# itertools.permutation\n",
    "import itertools\n",
    "lotto = itertools.combinations(range(1, 46), 6)  # 1부터 45까지의 숫자 중에서 6개를 조합\n",
    "print(len(list(lotto)))  # 조합 결과를 리스트로 변환하여 출력"
   ]
  },
  {
   "cell_type": "code",
   "execution_count": null,
   "id": "ac14cdf7",
   "metadata": {},
   "outputs": [],
   "source": [
    "# functiools.reduce"
   ]
  },
  {
   "cell_type": "markdown",
   "id": "39bbf6a0",
   "metadata": {},
   "source": [
    "## OS"
   ]
  },
  {
   "cell_type": "code",
   "execution_count": 92,
   "id": "31048211",
   "metadata": {},
   "outputs": [
    {
     "data": {
      "text/plain": [
       "['.ipynb_checkpoints', 'py01.ipynb', 'test.txt', '성적.txt', '성적2.txt']"
      ]
     },
     "execution_count": 92,
     "metadata": {},
     "output_type": "execute_result"
    }
   ],
   "source": [
    "import os\n",
    "os.environ['PATH'] # 환경 변수 PATH 출력\n",
    "os.chdir(\"D:\\\\kys\\\\public\")  # 현재 작업 디렉토리 출력\n",
    "os.getcwd()  # 현재 작업 디렉토리 출력\n",
    "os.listdir()  # 현재 디렉토리의 파일 목록 출력"
   ]
  },
  {
   "cell_type": "code",
   "execution_count": 93,
   "id": "3a6b59d6",
   "metadata": {},
   "outputs": [
    {
     "name": "stdout",
     "output_type": "stream",
     "text": [
      ".\\py01.ipynb\n"
     ]
    }
   ],
   "source": [
    "import glob\n",
    "for file in glob.glob(\"./py*.ipynb\"):\n",
    "    print(file)  # 현재 디렉토리의 모든 .txt 파일 출력"
   ]
  },
  {
   "cell_type": "code",
   "execution_count": 94,
   "id": "a52f629f",
   "metadata": {},
   "outputs": [],
   "source": [
    "# import shutil , 파일 복사, 이동, 삭제 등 기능"
   ]
  },
  {
   "cell_type": "markdown",
   "id": "f0cc34be",
   "metadata": {},
   "source": []
  }
 ],
 "metadata": {
  "kernelspec": {
   "display_name": "Python 3 (ipykernel)",
   "language": "python",
   "name": "python3"
  }
 },
 "nbformat": 4,
 "nbformat_minor": 5
}
